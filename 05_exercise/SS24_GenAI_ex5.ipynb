{
 "cells": [
  {
   "metadata": {},
   "cell_type": "markdown",
   "source": [
    "# Task 1: Filters Visualization\n",
    "## 1.1 - Load VGG16\n",
    "We are loading a (pretrained) VGG16 via torchvision"
   ],
   "id": "9c285077c57c5a5c"
  },
  {
   "metadata": {},
   "cell_type": "code",
   "source": [
    "import numpy as np\n",
    "import os\n",
    "import torch\n",
    "from torch.optim import Adam\n",
    "from torchvision import models\n",
    "from filters_visualization import visualise_layer_filter\n",
    "from aux_ops import preprocess_image, recreate_image\n",
    "\n",
    "\n",
    "# Select the device to work on.\n",
    "device = torch.device(\"cuda:0\" if torch.cuda.is_available() else \"cpu\")\n",
    "\n",
    "# model = TODO"
   ],
   "id": "7ae396780028d233",
   "outputs": [],
   "execution_count": null
  },
  {
   "metadata": {},
   "cell_type": "markdown",
   "source": "## 1.2 - Optimize input image\n",
   "id": "636fd22dcacbf629"
  },
  {
   "metadata": {},
   "cell_type": "code",
   "source": "# TODO: add your code here",
   "id": "df7e479b61d3563a",
   "outputs": [],
   "execution_count": null
  },
  {
   "metadata": {},
   "cell_type": "markdown",
   "source": "## Task 1.3 - Visualize a random filter.",
   "id": "93932def1442e7dc"
  },
  {
   "metadata": {},
   "cell_type": "code",
   "outputs": [],
   "execution_count": null,
   "source": "# TODO: add your code here",
   "id": "f6cc27c835fa55c7"
  },
  {
   "metadata": {},
   "cell_type": "markdown",
   "source": "## Task 1.4 - Visualize filters at different layers.",
   "id": "3c987d784b87066"
  },
  {
   "metadata": {},
   "cell_type": "code",
   "source": "# TODO: add your code here",
   "id": "c3e10e8381f96e14",
   "outputs": [],
   "execution_count": null
  },
  {
   "metadata": {},
   "cell_type": "markdown",
   "source": "## Task 1.5 - Hyperparameter tuning.\n",
   "id": "713eb47020a1e0fe"
  },
  {
   "metadata": {},
   "cell_type": "code",
   "source": "# TODO: add your code here",
   "id": "8c99c3e30bebdfde",
   "outputs": [],
   "execution_count": null
  },
  {
   "metadata": {},
   "cell_type": "markdown",
   "source": "## Task 1.6 - Pretrained weights.\n",
   "id": "95b526b4558d8cba"
  },
  {
   "metadata": {},
   "cell_type": "code",
   "source": "# TODO: add your code here",
   "id": "d201577c15508470",
   "outputs": [],
   "execution_count": null
  },
  {
   "metadata": {},
   "cell_type": "markdown",
   "source": [
    "# Task 2: Deep Dream\n",
    "\n",
    "## Task 1.1 Most activated filters for every image"
   ],
   "id": "2ff1bb3ff8117aa7"
  },
  {
   "metadata": {},
   "cell_type": "code",
   "outputs": [],
   "execution_count": null,
   "source": "# TODO: add your code here",
   "id": "4e7270057942f822"
  },
  {
   "metadata": {},
   "cell_type": "markdown",
   "source": "## Task 1.2 Total variation loss.",
   "id": "c751b3f0b58b66fb"
  },
  {
   "metadata": {},
   "cell_type": "code",
   "outputs": [],
   "execution_count": null,
   "source": "# TODO: add your code here",
   "id": "846345920698a44a"
  },
  {
   "metadata": {},
   "cell_type": "markdown",
   "source": "## Task 1.3 Deep dream.",
   "id": "9e6a4a9c301cfbb5"
  },
  {
   "metadata": {},
   "cell_type": "code",
   "outputs": [],
   "execution_count": null,
   "source": "# TODO: add your code here",
   "id": "7b985c6ac5bec4c"
  }
 ],
 "metadata": {
  "kernelspec": {
   "display_name": "Python 3",
   "language": "python",
   "name": "python3"
  },
  "language_info": {
   "codemirror_mode": {
    "name": "ipython",
    "version": 2
   },
   "file_extension": ".py",
   "mimetype": "text/x-python",
   "name": "python",
   "nbconvert_exporter": "python",
   "pygments_lexer": "ipython2",
   "version": "2.7.6"
  }
 },
 "nbformat": 4,
 "nbformat_minor": 5
}
