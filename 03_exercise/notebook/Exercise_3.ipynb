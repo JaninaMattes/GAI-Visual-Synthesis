{
 "cells": [
  {
   "cell_type": "markdown",
   "metadata": {},
   "source": [
    "# Exercise Sheet 3: Multi Layer Perceptrons (MLPs)"
   ]
  },
  {
   "cell_type": "code",
   "execution_count": 55,
   "metadata": {},
   "outputs": [],
   "source": [
    "import os\n",
    "\n",
    "import torch\n",
    "import torch.nn as nn\n",
    "import torch.nn.functional as F\n",
    "from torch.utils.data import DataLoader\n",
    "import torchvision.transforms as transforms\n",
    "from torchvision import datasets\n",
    "from sklearn.datasets import make_moons\n",
    "\n",
    "import numpy as np\n",
    "from tqdm.auto import tqdm\n",
    "\n",
    "import matplotlib.pyplot as plt\n",
    "%matplotlib inline\n",
    "\n",
    "plt.rcParams['figure.figsize'] = (6.0, 4.0)\n",
    "\n",
    "import pprint\n",
    "pp = pprint.PrettyPrinter(indent=4)\n",
    "\n",
    "\n",
    "# Set random seed for reproducibility\n",
    "SEED = 42\n",
    "RESULTS_PATH = \"./results\""
   ]
  },
  {
   "cell_type": "markdown",
   "metadata": {},
   "source": [
    "### Task 1: Backpropagation and Simple Training"
   ]
  },
  {
   "cell_type": "code",
   "execution_count": 56,
   "metadata": {},
   "outputs": [],
   "source": [
    "# 1. Complete forward, backward pass, and update for Linear and ReLU\n",
    "class Linear:\n",
    "    def __init__(self, in_channels, out_channels):\n",
    "        self.in_channels = in_channels\n",
    "        self.out_channels = out_channels\n",
    "        \n",
    "        # initialize weights with standard normal distribution and bias with zeros\n",
    "        self.weight = torch.randn(self.in_channels, self.out_channels)\n",
    "        self.bias = torch.zeros(self.out_channels)\n",
    "        \n",
    "        self.last_input = None\n",
    "        self.grad_weight = None\n",
    "        self.grad_bias = None\n",
    "        \n",
    "    def forward(self, x, remember=False):\n",
    "        if remember:\n",
    "            self.last_input = x\n",
    "        newx = torch.matmul(x, self.weight) + self.bias\n",
    "        return newx\n",
    "    \n",
    "    def backward(self, gradient):\n",
    "        # calculate gradients\n",
    "        self.grad_weight = torch.matmul(self.last_input.t(), gradient)\n",
    "        self.grad_bias = torch.sum(gradient, dim=0)\n",
    "\n",
    "        # calculate gradient for previous layer\n",
    "        newgrad = torch.matmul(gradient, self.weight.t())\n",
    "        \n",
    "        return newgrad\n",
    "    \n",
    "    def update(self, learning_rate):\n",
    "        # update weights and bias\n",
    "        self.weight -= learning_rate * self.grad_weight\n",
    "        self.bias -= learning_rate * self.grad_bias\n",
    "        \n",
    "        \n",
    "class ReLU:\n",
    "    def __init__(self):\n",
    "        self.last_input = None\n",
    "    \n",
    "    def forward(self, x, remember=False):\n",
    "        if remember:\n",
    "            self.last_input = x\n",
    "        # ReLU activation\n",
    "        newx = torch.max(x, torch.zeros_like(x))\n",
    "        return newx\n",
    "    \n",
    "    def backward(self, gradient):\n",
    "        # ReLU gradient\n",
    "        newgrad = torch.where(self.last_input>0, gradient, 0.0)\n",
    "        return newgrad\n",
    "    \n",
    "    def update(self, learning_rate):\n",
    "        #we don't have any parameters here\n",
    "        pass\n",
    "    "
   ]
  },
  {
   "cell_type": "code",
   "execution_count": 57,
   "metadata": {},
   "outputs": [],
   "source": [
    "class Softmax:\n",
    "    def __init__(self, dim=-1):\n",
    "        self.last_output = None\n",
    "        self.dim = dim\n",
    "        \n",
    "    def forward(self, x, remember=False):\n",
    "        x = torch.exp(x-torch.amax(x, dim=-1, keepdims=True)) #numerical stable version -> normalize by max(x)\n",
    "        x = x/(torch.sum(x, dim=self.dim, keepdim=True)+1e-12)\n",
    "        if remember:\n",
    "            self.last_output = x\n",
    "        return x\n",
    "    \n",
    "    def backward(self, gradient):\n",
    "        jacobian = -self.last_output[:,:,None]*self.last_output[:,None,:] #BxLxL\n",
    "        #correct diagonal entries\n",
    "        jacobian += torch.eye(self.last_output.size(-1)).unsqueeze(0)*self.last_output.unsqueeze(-1).repeat(1,1,self.last_output.size(-1))\n",
    "        return torch.einsum(\"bj,bji->bi\", gradient, jacobian)\n",
    "    \n",
    "    def update(self, learning_rate):\n",
    "        #we don't have any parameters here\n",
    "        pass"
   ]
  },
  {
   "cell_type": "code",
   "execution_count": 58,
   "metadata": {},
   "outputs": [],
   "source": [
    "class CrossEntropyLoss:\n",
    "    def __init__(self, dim=-1):\n",
    "        self.last_input = None\n",
    "        self.last_ground_truth = None\n",
    "        self.dim = dim\n",
    "    \n",
    "    def forward(self, p, y):\n",
    "        #convert y to one hot\n",
    "        one_hot = torch.eye(p.size(-1))[y]\n",
    "        self.last_input = p\n",
    "        self.last_ground_truth = one_hot\n",
    "        \n",
    "        losses = -torch.sum(one_hot*torch.log(p), dim=-1)\n",
    "        total_loss = torch.mean(losses)\n",
    "        \n",
    "        return total_loss\n",
    "    \n",
    "    def backward(self):\n",
    "        return torch.where(self.last_ground_truth==1,-1.0/self.last_input, 0.0)\n",
    "          \n",
    "              "
   ]
  },
  {
   "cell_type": "code",
   "execution_count": 59,
   "metadata": {},
   "outputs": [],
   "source": [
    "class MLP:\n",
    "    def __init__(self, in_channels=2, hidden_channels=[], out_channels=2):\n",
    "        self.in_channels = in_channels\n",
    "        \n",
    "        self.layers = []\n",
    "        if len(hidden_channels)==0:\n",
    "            self.layers.append(Linear(in_channels, out_channels))\n",
    "        else:\n",
    "            self.layers.append(Linear(in_channels, hidden_channels[0]))\n",
    "            self.layers.append(ReLU())\n",
    "            for i in range(len(hidden_channels)-1):\n",
    "                self.layers.append(Linear(hidden_channels[i], hidden_channels[i+1]))\n",
    "                self.layers.append(ReLU())\n",
    "            self.layers.append(Linear(hidden_channels[-1], out_channels))\n",
    "        self.layers.append(Softmax(dim=-1))\n",
    "        \n",
    "        self.criterion = CrossEntropyLoss(dim=-1)\n",
    "        \n",
    "    def forward(self, x, remember=False):\n",
    "        for layer in self.layers:\n",
    "            x = layer.forward(x, remember=remember)\n",
    "        return x\n",
    "    \n",
    "    def backward(self): #calculate gradients\n",
    "        grad = self.criterion.backward()\n",
    "        for layer in reversed(self.layers):\n",
    "            grad = layer.backward(grad)\n",
    "    \n",
    "    def update(self, learning_rate): #update each layer via gradient descent\n",
    "        for layer in self.layers:\n",
    "            layer.update(learning_rate)\n",
    "    \n",
    "    def training_step(self, x, y, learning_rate):\n",
    "        probabilities = self.forward(x, remember=True) #store inputs for backward pass!\n",
    "        loss = self.criterion.forward(probabilities, y)\n",
    "        self.backward() #calculate gradients\n",
    "        self.update(learning_rate) #update using gradient descent\n",
    "        \n",
    "        return loss"
   ]
  },
  {
   "cell_type": "code",
   "execution_count": 60,
   "metadata": {},
   "outputs": [
    {
     "name": "stdout",
     "output_type": "stream",
     "text": [
      "(8000, 2) (8000,)\n"
     ]
    }
   ],
   "source": [
    "#create datasets\n",
    "Ntrain = 8000\n",
    "Ntest = 2000\n",
    "Xtrain, ytrain = make_moons(n_samples=Ntrain, noise=0.08, random_state=42)\n",
    "Xtest, ytest = make_moons(n_samples=Ntest, noise=0.08, random_state=42)\n",
    "\n",
    "print(Xtrain.shape, ytrain.shape)"
   ]
  },
  {
   "cell_type": "code",
   "execution_count": 61,
   "metadata": {},
   "outputs": [
    {
     "ename": "AttributeError",
     "evalue": "'MLP' object has no attribute 'parameters'",
     "output_type": "error",
     "traceback": [
      "\u001b[0;31m---------------------------------------------------------------------------\u001b[0m",
      "\u001b[0;31mAttributeError\u001b[0m                            Traceback (most recent call last)",
      "Cell \u001b[0;32mIn[61], line 27\u001b[0m\n\u001b[1;32m     25\u001b[0m mlp \u001b[38;5;241m=\u001b[39m MLP(\u001b[38;5;241m2\u001b[39m, [\u001b[38;5;241m30\u001b[39m,\u001b[38;5;241m30\u001b[39m], \u001b[38;5;241m2\u001b[39m)\n\u001b[1;32m     26\u001b[0m criterion \u001b[38;5;241m=\u001b[39m nn\u001b[38;5;241m.\u001b[39mCrossEntropyLoss()\n\u001b[0;32m---> 27\u001b[0m optimizer \u001b[38;5;241m=\u001b[39m optim\u001b[38;5;241m.\u001b[39mAdam(\u001b[43mmlp\u001b[49m\u001b[38;5;241;43m.\u001b[39;49m\u001b[43mparameters\u001b[49m(), lr\u001b[38;5;241m=\u001b[39m\u001b[38;5;241m5e-2\u001b[39m)\n\u001b[1;32m     29\u001b[0m \u001b[38;5;66;03m# train network\u001b[39;00m\n\u001b[1;32m     30\u001b[0m num_epochs \u001b[38;5;241m=\u001b[39m \u001b[38;5;241m10\u001b[39m\n",
      "\u001b[0;31mAttributeError\u001b[0m: 'MLP' object has no attribute 'parameters'"
     ]
    }
   ],
   "source": [
    "# 2. Implement missing parts in the training routine\n",
    "\n",
    "#rescale data to [-1,1]\n",
    "amin = np.amin(Xtrain, axis=0, keepdims=True)\n",
    "amax = np.amax(Xtrain, axis=0, keepdims=True)\n",
    "\n",
    "Xtrain = ((Xtrain-amin)/(amax-amin)-0.5)/0.5\n",
    "Xtest = ((Xtest-amin)/(amax-amin)-0.5)/0.5\n",
    "\n",
    "batch_size = 32\n",
    "num_batches_train = int(np.ceil(Ntrain/batch_size))\n",
    "num_batches_test = int(np.ceil(Ntest/batch_size))\n",
    "\n",
    "num_epochs = 10\n",
    "\n",
    "mlp = MLP(2, [30,30], 2)\n",
    "learning_rate = 5e-2\n",
    "\n",
    "\n",
    "#train network\n",
    "losses_train = []\n",
    "losses_test = []\n",
    "\n",
    "for epoch in range(num_epochs):\n",
    "    #reshuffle training data\n",
    "    ind = np.random.permutation(len(Xtrain))\n",
    "    Xtrain = Xtrain[ind]\n",
    "    ytrain = ytrain[ind]\n",
    "    #training pass\n",
    "    for it in tqdm(range(num_batches_train)):\n",
    "        start = it*batch_size\n",
    "        end = min((it+1)*batch_size, len(Xtrain))\n",
    "        X = torch.FloatTensor(Xtrain[start:end])\n",
    "        y = torch.LongTensor(ytrain[start:end])\n",
    "        \n",
    "        # compute loss and update weights\n",
    "        loss = mlp.training_step(X, y, learning_rate)\n",
    "        losses_train.append(loss.item())\n",
    "\n",
    "        # update weights\n",
    "        mlp.update(learning_rate)\n",
    "\n",
    "    \n",
    "    #testing pass\n",
    "    for it in range(num_batches_test):\n",
    "        start = it*batch_size\n",
    "        end = min((it+1)*batch_size, len(Xtest))\n",
    "        X = torch.FloatTensor(Xtest[start:end])\n",
    "        y = torch.LongTensor(ytest[start:end])\n",
    "        \n",
    "        # compute loss\n",
    "        probabilities = mlp.forward(X)\n",
    "        loss = mlp.criterion.forward(probabilities, y)\n",
    "\n",
    "        losses_test.append(loss.item())\n"
   ]
  },
  {
   "cell_type": "code",
   "execution_count": null,
   "metadata": {},
   "outputs": [],
   "source": [
    "# 3. Plot loss curves on training and test se\n",
    "plt.figure()\n",
    "plt.plot(losses_train, label=\"train\")\n",
    "plt.plot(losses_test, label=\"test\")\n",
    "plt.legend()\n",
    "plt.show()\n",
    "# store plot in results folder\n",
    "# check if folder exists, if not create it\n",
    "if not os.path.exists(RESULTS_PATH):\n",
    "    os.makedirs(RESULTS_PATH)\n",
    "\n",
    "plt.savefig(f\"{RESULTS_PATH}/losses.png\")"
   ]
  },
  {
   "cell_type": "code",
   "execution_count": null,
   "metadata": {},
   "outputs": [],
   "source": []
  },
  {
   "cell_type": "markdown",
   "metadata": {},
   "source": [
    "### Task 2: Data Preparation and Visualization"
   ]
  },
  {
   "cell_type": "code",
   "execution_count": null,
   "metadata": {},
   "outputs": [],
   "source": []
  },
  {
   "cell_type": "markdown",
   "metadata": {},
   "source": [
    "### Task 3: Defining, Training and Evaluating an MLP"
   ]
  },
  {
   "cell_type": "code",
   "execution_count": null,
   "metadata": {},
   "outputs": [],
   "source": []
  },
  {
   "cell_type": "markdown",
   "metadata": {},
   "source": [
    "#### Task 4: Visualizing MLP Features"
   ]
  }
 ],
 "metadata": {
  "kernelspec": {
   "display_name": "pytorch-py11",
   "language": "python",
   "name": "python3"
  },
  "language_info": {
   "codemirror_mode": {
    "name": "ipython",
    "version": 3
   },
   "file_extension": ".py",
   "mimetype": "text/x-python",
   "name": "python",
   "nbconvert_exporter": "python",
   "pygments_lexer": "ipython3",
   "version": "3.11.9"
  }
 },
 "nbformat": 4,
 "nbformat_minor": 2
}
