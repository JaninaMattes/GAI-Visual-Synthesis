{
 "cells": [
  {
   "cell_type": "markdown",
   "metadata": {},
   "source": [
    "# Exercise Sheet 3: Multi Layer Perceptrons (MLPs)"
   ]
  },
  {
   "cell_type": "code",
   "execution_count": 104,
   "metadata": {},
   "outputs": [],
   "source": [
    "import os\n",
    "\n",
    "import torch\n",
    "import torch.nn as nn\n",
    "import torch.nn.functional as F\n",
    "from torch.utils.data import DataLoader\n",
    "import torchvision.transforms as transforms\n",
    "from torchvision import datasets\n",
    "from sklearn.datasets import make_moons\n",
    "\n",
    "import numpy as np\n",
    "from tqdm.auto import tqdm\n",
    "\n",
    "import matplotlib.pyplot as plt\n",
    "%matplotlib inline\n",
    "\n",
    "plt.rcParams['figure.figsize'] = (6.0, 4.0)\n",
    "\n",
    "import pprint\n",
    "pp = pprint.PrettyPrinter(indent=4)\n",
    "\n",
    "\n",
    "# Set random seed for reproducibility\n",
    "SEED = 42\n",
    "RESULTS_PATH = \"./results\""
   ]
  },
  {
   "cell_type": "markdown",
   "metadata": {},
   "source": [
    "### Task 1: Backpropagation and Simple Training"
   ]
  },
  {
   "cell_type": "code",
   "execution_count": 105,
   "metadata": {},
   "outputs": [],
   "source": [
    "def set_seed(seed):\n",
    "    torch.manual_seed(seed)\n",
    "    torch.cuda.manual_seed(seed)\n",
    "    np.random.seed(seed)\n",
    "\n",
    "#set_seed(SEED)"
   ]
  },
  {
   "cell_type": "code",
   "execution_count": 106,
   "metadata": {},
   "outputs": [],
   "source": [
    "def standard_normalization(x):\n",
    "    return (x - x.mean()) / x.std()\n",
    "\n",
    "def moving_average(x, w):\n",
    "    return np.convolve(x, np.ones(w), 'valid') / w\n",
    "\n",
    "def normaldist_init(input_size, output_size):\n",
    "    # Normal distribution initialization\n",
    "    return torch.randn(input_size, output_size)\n",
    "    \n",
    "def xavier_init(input_size, output_size):\n",
    "    # Xavier initialization\n",
    "    return torch.randn(input_size, output_size) * np.sqrt(2.0/(input_size + output_size))"
   ]
  },
  {
   "cell_type": "code",
   "execution_count": 107,
   "metadata": {},
   "outputs": [],
   "source": [
    "# 1. Complete forward, backward pass, and update for Linear and ReLU\n",
    "class Linear:\n",
    "    def __init__(self, in_channels, out_channels):\n",
    "        self.in_channels = in_channels\n",
    "        self.out_channels = out_channels\n",
    "        \n",
    "        # initialize weights with standard normal distribution and bias with zeros\n",
    "        # self.weight = normaldist_init(self.in_channels, self.out_channels)\n",
    "        \n",
    "        # Xavier initialization\n",
    "        self.weight = xavier_init(self.in_channels, self.out_channels)\n",
    "        self.bias = torch.zeros(self.out_channels)\n",
    "        \n",
    "        # store last input for backpropagation\n",
    "        self.last_input = None\n",
    "        self.grad_weight = None\n",
    "        self.grad_bias = None\n",
    "        \n",
    "    def forward(self, x, remember=False):\n",
    "        if remember:\n",
    "            self.last_input = x\n",
    "\n",
    "        # reshape input to 2D tensor\n",
    "        if len(x.shape) > 2:\n",
    "            x = x.view(x.size(0), -1)\n",
    "\n",
    "        # calculate linear transformation\n",
    "        newx = torch.matmul(x, self.weight) + self.bias\n",
    "        return newx\n",
    "    \n",
    "    def backward(self, gradient):\n",
    "        # calculate gradients\n",
    "        self.grad_weight = torch.matmul(self.last_input.t(), gradient)\n",
    "        self.grad_bias = torch.sum(gradient, dim=0)\n",
    "        \n",
    "        # reshape gradient to original input shape\n",
    "        if len(self.last_input.shape) > 2:\n",
    "            gradient = gradient.view(*self.last_input.shape)\n",
    "\n",
    "        # calculate gradient for previous layer\n",
    "        newgrad = torch.matmul(gradient, self.weight.t())\n",
    "\n",
    "        return newgrad\n",
    "\n",
    "    \n",
    "    def update(self, learning_rate):\n",
    "        # update weights and bias\n",
    "        self.weight -= learning_rate * self.grad_weight\n",
    "        self.bias -= learning_rate * self.grad_bias\n",
    "        \n",
    "        \n",
    "class ReLU:\n",
    "    def __init__(self):\n",
    "        self.last_input = None\n",
    "    \n",
    "    def forward(self, x, remember=False):\n",
    "        if remember:\n",
    "            self.last_input = x\n",
    "        \n",
    "        # ReLU activation\n",
    "        newx = torch.max(x, torch.zeros_like(x))\n",
    "        return newx\n",
    "    \n",
    "    def backward(self, gradient):\n",
    "        # ReLU gradient\n",
    "        newgrad = torch.where(self.last_input>0, gradient, 0.0)\n",
    "        return newgrad\n",
    "    \n",
    "    def update(self, learning_rate):\n",
    "        #we don't have any parameters here\n",
    "        pass\n",
    "    "
   ]
  },
  {
   "cell_type": "code",
   "execution_count": 108,
   "metadata": {},
   "outputs": [],
   "source": [
    "class Softmax:\n",
    "    def __init__(self, dim=-1):\n",
    "        self.last_output = None\n",
    "        self.dim = dim\n",
    "        \n",
    "    def forward(self, x, remember=False):\n",
    "        x = torch.exp(x-torch.amax(x, dim=-1, keepdims=True)) #numerical stable version -> normalize by max(x)\n",
    "        x = x/(torch.sum(x, dim=self.dim, keepdim=True)+1e-12)\n",
    "        if remember:\n",
    "            self.last_output = x\n",
    "        return x\n",
    "    \n",
    "    def backward(self, gradient):\n",
    "        jacobian = -self.last_output[:,:,None]*self.last_output[:,None,:] #BxLxL\n",
    "        #correct diagonal entries\n",
    "        jacobian += torch.eye(self.last_output.size(-1)).unsqueeze(0)*self.last_output.unsqueeze(-1).repeat(1,1,self.last_output.size(-1))\n",
    "        return torch.einsum(\"bj,bji->bi\", gradient, jacobian)\n",
    "    \n",
    "    def update(self, learning_rate):\n",
    "        #we don't have any parameters here\n",
    "        pass"
   ]
  },
  {
   "cell_type": "code",
   "execution_count": 109,
   "metadata": {},
   "outputs": [],
   "source": [
    "class CrossEntropyLoss:\n",
    "    def __init__(self, dim=-1):\n",
    "        self.last_input = None\n",
    "        self.last_ground_truth = None\n",
    "        self.dim = dim\n",
    "    \n",
    "    def forward(self, p, y):\n",
    "        #convert y to one hot\n",
    "        one_hot = torch.eye(p.size(-1))[y]\n",
    "        self.last_input = p\n",
    "        self.last_ground_truth = one_hot\n",
    "        \n",
    "        losses = -torch.sum(one_hot*torch.log(p), dim=-1)\n",
    "        total_loss = torch.mean(losses)\n",
    "        \n",
    "        return total_loss\n",
    "    \n",
    "    def backward(self):\n",
    "        return torch.where(self.last_ground_truth==1,-1.0/self.last_input, 0.0)\n",
    "\n",
    "              "
   ]
  },
  {
   "cell_type": "code",
   "execution_count": 110,
   "metadata": {},
   "outputs": [],
   "source": [
    "class MLP:\n",
    "    def __init__(self, in_channels=2, hidden_channels=[], out_channels=2):\n",
    "        self.in_channels = in_channels\n",
    "        \n",
    "        self.layers = []\n",
    "        if len(hidden_channels)==0:\n",
    "            self.layers.append(Linear(in_channels, out_channels))\n",
    "        else:\n",
    "            self.layers.append(Linear(in_channels, hidden_channels[0]))\n",
    "            self.layers.append(ReLU())\n",
    "            for i in range(len(hidden_channels)-1):\n",
    "                self.layers.append(Linear(hidden_channels[i], hidden_channels[i+1]))\n",
    "                self.layers.append(ReLU())\n",
    "            self.layers.append(Linear(hidden_channels[-1], out_channels))\n",
    "        self.layers.append(Softmax(dim=-1))\n",
    "        \n",
    "        self.criterion = CrossEntropyLoss(dim=-1)\n",
    "        \n",
    "    def forward(self, x, remember=False):\n",
    "        for layer in self.layers:\n",
    "            x = layer.forward(x, remember=remember)\n",
    "        return x\n",
    "    \n",
    "    def backward(self): #calculate gradients\n",
    "        grad = self.criterion.backward()\n",
    "        for layer in reversed(self.layers):\n",
    "            grad = layer.backward(grad)\n",
    "    \n",
    "    def update(self, learning_rate): #update each layer via gradient descent\n",
    "        for layer in self.layers:\n",
    "            layer.update(learning_rate)\n",
    "    \n",
    "    def training_step(self, x, y, learning_rate):\n",
    "        probabilities = self.forward(x, remember=True) #store inputs for backward pass!\n",
    "        loss = self.criterion.forward(probabilities, y)\n",
    "        self.backward() #calculate gradients\n",
    "        self.update(learning_rate) #update using gradient descent\n",
    "        \n",
    "        return loss"
   ]
  },
  {
   "cell_type": "code",
   "execution_count": 111,
   "metadata": {},
   "outputs": [],
   "source": [
    "def train_network(mlp, Ntrain, Ntest, Xtrain, ytrain, Xtest, ytest, num_epochs=10, batch_size=32, learning_rate=5e-3):\n",
    "    num_batches_train = int(np.ceil(Ntrain/batch_size))\n",
    "    num_batches_test = int(np.ceil(Ntest/batch_size))\n",
    "\n",
    "    #train network\n",
    "    losses_train = []\n",
    "    losses_test = []\n",
    "\n",
    "    for epoch in range(num_epochs):\n",
    "        #reshuffle training data\n",
    "        ind = np.random.permutation(len(Xtrain))\n",
    "        Xtrain = Xtrain[ind]\n",
    "        ytrain = ytrain[ind]\n",
    "\n",
    "        epoch_train_loss = 0.0\n",
    "        epoch_test_loss = 0.0\n",
    "\n",
    "        #training pass\n",
    "        for it in tqdm(range(num_batches_train)):\n",
    "            start = it*batch_size\n",
    "            end = min((it+1)*batch_size, len(Xtrain))\n",
    "            X = torch.FloatTensor(Xtrain[start:end])\n",
    "            y = torch.LongTensor(ytrain[start:end])\n",
    "\n",
    "            # compute loss and update weights\n",
    "            loss = mlp.training_step(X, y, learning_rate)\n",
    "            epoch_train_loss += loss.item()\n",
    "\n",
    "            # update weights\n",
    "            mlp.update(learning_rate)\n",
    "\n",
    "            if it%10==0:\n",
    "                print(f\"Epoch {epoch+1}/{num_epochs}, Iteration {it+1}/{num_batches_train}, Train Loss: {loss.item()}\")\n",
    "\n",
    "        #testing pass\n",
    "        for it in range(num_batches_test):\n",
    "            start = it*batch_size\n",
    "            end = min((it+1)*batch_size, len(Xtest))\n",
    "            X = torch.FloatTensor(Xtest[start:end])\n",
    "            y = torch.LongTensor(ytest[start:end])\n",
    "\n",
    "            # compute loss\n",
    "            probabilities = mlp.forward(X)\n",
    "            loss = mlp.criterion.forward(probabilities, y)\n",
    "            epoch_test_loss += loss.item()\n",
    "\n",
    "            if it%10==0:\n",
    "                print(f\"Epoch {epoch+1}/{num_epochs}, Iteration {it+1}/{num_batches_test}, Test Loss: {loss.item()}\")\n",
    "\n",
    "        # append average loss for this epoch\n",
    "        losses_train.append(epoch_train_loss / num_batches_train)\n",
    "        losses_test.append(epoch_test_loss / num_batches_test)\n",
    "\n",
    "    return losses_train, losses_test\n"
   ]
  },
  {
   "cell_type": "code",
   "execution_count": 112,
   "metadata": {},
   "outputs": [
    {
     "name": "stdout",
     "output_type": "stream",
     "text": [
      "(8000, 2) (8000,)\n"
     ]
    }
   ],
   "source": [
    "#create datasets\n",
    "Ntrain = 8000\n",
    "Ntest = 2000\n",
    "Xtrain, ytrain = make_moons(n_samples=Ntrain, noise=0.08, random_state=42)\n",
    "Xtest, ytest = make_moons(n_samples=Ntest, noise=0.08, random_state=42)\n",
    "\n",
    "print(Xtrain.shape, ytrain.shape)"
   ]
  },
  {
   "cell_type": "code",
   "execution_count": 113,
   "metadata": {},
   "outputs": [
    {
     "name": "stderr",
     "output_type": "stream",
     "text": [
      "100%|██████████| 250/250 [00:00<00:00, 4969.11it/s]\n"
     ]
    },
    {
     "name": "stdout",
     "output_type": "stream",
     "text": [
      "Epoch 1/10, Iteration 1/250, Train Loss: 0.6846792697906494\n",
      "Epoch 1/10, Iteration 11/250, Train Loss: 0.2679646909236908\n",
      "Epoch 1/10, Iteration 21/250, Train Loss: 0.37059512734413147\n",
      "Epoch 1/10, Iteration 31/250, Train Loss: 0.3638851046562195\n",
      "Epoch 1/10, Iteration 41/250, Train Loss: 0.1850566565990448\n",
      "Epoch 1/10, Iteration 51/250, Train Loss: 0.2450941503047943\n",
      "Epoch 1/10, Iteration 61/250, Train Loss: 0.26097479462623596\n",
      "Epoch 1/10, Iteration 71/250, Train Loss: 0.08931903541088104\n",
      "Epoch 1/10, Iteration 81/250, Train Loss: 0.21651621162891388\n",
      "Epoch 1/10, Iteration 91/250, Train Loss: 0.11709441244602203\n",
      "Epoch 1/10, Iteration 101/250, Train Loss: 0.13976186513900757\n",
      "Epoch 1/10, Iteration 111/250, Train Loss: 0.47429507970809937\n",
      "Epoch 1/10, Iteration 121/250, Train Loss: 0.22850868105888367\n",
      "Epoch 1/10, Iteration 131/250, Train Loss: 0.20116060972213745\n",
      "Epoch 1/10, Iteration 141/250, Train Loss: 0.11985840648412704\n",
      "Epoch 1/10, Iteration 151/250, Train Loss: 0.22688043117523193\n",
      "Epoch 1/10, Iteration 161/250, Train Loss: 0.14814281463623047\n",
      "Epoch 1/10, Iteration 171/250, Train Loss: 0.2982332706451416\n",
      "Epoch 1/10, Iteration 181/250, Train Loss: 0.08959527313709259\n",
      "Epoch 1/10, Iteration 191/250, Train Loss: 0.050573788583278656\n",
      "Epoch 1/10, Iteration 201/250, Train Loss: 0.07368845492601395\n",
      "Epoch 1/10, Iteration 211/250, Train Loss: 0.019759802147746086\n",
      "Epoch 1/10, Iteration 221/250, Train Loss: 0.4310581684112549\n",
      "Epoch 1/10, Iteration 231/250, Train Loss: 0.18414151668548584\n",
      "Epoch 1/10, Iteration 241/250, Train Loss: 0.13451434671878815\n",
      "Epoch 1/10, Iteration 1/63, Test Loss: 0.1956367790699005\n",
      "Epoch 1/10, Iteration 11/63, Test Loss: 0.10505818575620651\n",
      "Epoch 1/10, Iteration 21/63, Test Loss: 0.21029064059257507\n",
      "Epoch 1/10, Iteration 31/63, Test Loss: 0.10749778896570206\n",
      "Epoch 1/10, Iteration 41/63, Test Loss: 0.1265699714422226\n",
      "Epoch 1/10, Iteration 51/63, Test Loss: 0.08098027855157852\n",
      "Epoch 1/10, Iteration 61/63, Test Loss: 0.16397401690483093\n"
     ]
    },
    {
     "name": "stderr",
     "output_type": "stream",
     "text": [
      "100%|██████████| 250/250 [00:00<00:00, 5573.14it/s]\n"
     ]
    },
    {
     "name": "stdout",
     "output_type": "stream",
     "text": [
      "Epoch 2/10, Iteration 1/250, Train Loss: 0.13697224855422974\n",
      "Epoch 2/10, Iteration 11/250, Train Loss: 0.08898402750492096\n",
      "Epoch 2/10, Iteration 21/250, Train Loss: 0.37443336844444275\n",
      "Epoch 2/10, Iteration 31/250, Train Loss: 0.1920943707227707\n",
      "Epoch 2/10, Iteration 41/250, Train Loss: 0.21313272416591644\n",
      "Epoch 2/10, Iteration 51/250, Train Loss: 0.9947255253791809\n",
      "Epoch 2/10, Iteration 61/250, Train Loss: 0.1805454045534134\n",
      "Epoch 2/10, Iteration 71/250, Train Loss: 0.08439021557569504\n",
      "Epoch 2/10, Iteration 81/250, Train Loss: 0.09560005366802216\n",
      "Epoch 2/10, Iteration 91/250, Train Loss: 0.08071015775203705\n",
      "Epoch 2/10, Iteration 101/250, Train Loss: 0.10775014013051987\n",
      "Epoch 2/10, Iteration 111/250, Train Loss: 0.00960184633731842\n",
      "Epoch 2/10, Iteration 121/250, Train Loss: 0.019735995680093765\n",
      "Epoch 2/10, Iteration 131/250, Train Loss: 0.03924282267689705\n",
      "Epoch 2/10, Iteration 141/250, Train Loss: 0.0038101410027593374\n",
      "Epoch 2/10, Iteration 151/250, Train Loss: 0.002758847316727042\n",
      "Epoch 2/10, Iteration 161/250, Train Loss: 0.0011686021462082863\n",
      "Epoch 2/10, Iteration 171/250, Train Loss: 0.02126745507121086\n",
      "Epoch 2/10, Iteration 181/250, Train Loss: 0.0017843694658949971\n",
      "Epoch 2/10, Iteration 191/250, Train Loss: 0.0006732277688570321\n",
      "Epoch 2/10, Iteration 201/250, Train Loss: 0.0008196094422601163\n",
      "Epoch 2/10, Iteration 211/250, Train Loss: 0.004090080503374338\n",
      "Epoch 2/10, Iteration 221/250, Train Loss: 0.0005301681812852621\n",
      "Epoch 2/10, Iteration 231/250, Train Loss: nan\n",
      "Epoch 2/10, Iteration 241/250, Train Loss: nan\n",
      "Epoch 2/10, Iteration 1/63, Test Loss: nan\n",
      "Epoch 2/10, Iteration 11/63, Test Loss: nan\n",
      "Epoch 2/10, Iteration 21/63, Test Loss: nan\n",
      "Epoch 2/10, Iteration 31/63, Test Loss: nan\n",
      "Epoch 2/10, Iteration 41/63, Test Loss: nan\n",
      "Epoch 2/10, Iteration 51/63, Test Loss: nan\n",
      "Epoch 2/10, Iteration 61/63, Test Loss: nan\n"
     ]
    },
    {
     "name": "stderr",
     "output_type": "stream",
     "text": [
      "100%|██████████| 250/250 [00:00<00:00, 5637.99it/s]\n"
     ]
    },
    {
     "name": "stdout",
     "output_type": "stream",
     "text": [
      "Epoch 3/10, Iteration 1/250, Train Loss: nan\n",
      "Epoch 3/10, Iteration 11/250, Train Loss: nan\n",
      "Epoch 3/10, Iteration 21/250, Train Loss: nan\n",
      "Epoch 3/10, Iteration 31/250, Train Loss: nan\n",
      "Epoch 3/10, Iteration 41/250, Train Loss: nan\n",
      "Epoch 3/10, Iteration 51/250, Train Loss: nan\n",
      "Epoch 3/10, Iteration 61/250, Train Loss: nan\n",
      "Epoch 3/10, Iteration 71/250, Train Loss: nan\n",
      "Epoch 3/10, Iteration 81/250, Train Loss: nan\n",
      "Epoch 3/10, Iteration 91/250, Train Loss: nan\n",
      "Epoch 3/10, Iteration 101/250, Train Loss: nan\n",
      "Epoch 3/10, Iteration 111/250, Train Loss: nan\n",
      "Epoch 3/10, Iteration 121/250, Train Loss: nan\n",
      "Epoch 3/10, Iteration 131/250, Train Loss: nan\n",
      "Epoch 3/10, Iteration 141/250, Train Loss: nan\n",
      "Epoch 3/10, Iteration 151/250, Train Loss: nan\n",
      "Epoch 3/10, Iteration 161/250, Train Loss: nan\n",
      "Epoch 3/10, Iteration 171/250, Train Loss: nan\n",
      "Epoch 3/10, Iteration 181/250, Train Loss: nan\n",
      "Epoch 3/10, Iteration 191/250, Train Loss: nan\n",
      "Epoch 3/10, Iteration 201/250, Train Loss: nan\n",
      "Epoch 3/10, Iteration 211/250, Train Loss: nan\n",
      "Epoch 3/10, Iteration 221/250, Train Loss: nan\n",
      "Epoch 3/10, Iteration 231/250, Train Loss: nan\n",
      "Epoch 3/10, Iteration 241/250, Train Loss: nan\n",
      "Epoch 3/10, Iteration 1/63, Test Loss: nan\n",
      "Epoch 3/10, Iteration 11/63, Test Loss: nan\n",
      "Epoch 3/10, Iteration 21/63, Test Loss: nan\n",
      "Epoch 3/10, Iteration 31/63, Test Loss: nan\n",
      "Epoch 3/10, Iteration 41/63, Test Loss: nan\n",
      "Epoch 3/10, Iteration 51/63, Test Loss: nan\n",
      "Epoch 3/10, Iteration 61/63, Test Loss: nan\n"
     ]
    },
    {
     "name": "stderr",
     "output_type": "stream",
     "text": [
      "  0%|          | 0/250 [00:00<?, ?it/s]"
     ]
    },
    {
     "name": "stdout",
     "output_type": "stream",
     "text": [
      "Epoch 4/10, Iteration 1/250, Train Loss: nan\n",
      "Epoch 4/10, Iteration 11/250, Train Loss: nan\n",
      "Epoch 4/10, Iteration 21/250, Train Loss: nan\n",
      "Epoch 4/10, Iteration 31/250, Train Loss: nan\n",
      "Epoch 4/10, Iteration 41/250, Train Loss: nan\n",
      "Epoch 4/10, Iteration 51/250, Train Loss: nan\n",
      "Epoch 4/10, Iteration 61/250, Train Loss: nan\n",
      "Epoch 4/10, Iteration 71/250, Train Loss: nan\n",
      "Epoch 4/10, Iteration 81/250, Train Loss: nan\n",
      "Epoch 4/10, Iteration 91/250, Train Loss: nan\n",
      "Epoch 4/10, Iteration 101/250, Train Loss: nan\n",
      "Epoch 4/10, Iteration 111/250, Train Loss: nan\n",
      "Epoch 4/10, Iteration 121/250, Train Loss: nan\n",
      "Epoch 4/10, Iteration 131/250, Train Loss: nan\n",
      "Epoch 4/10, Iteration 141/250, Train Loss: nan\n",
      "Epoch 4/10, Iteration 151/250, Train Loss: nan\n",
      "Epoch 4/10, Iteration 161/250, Train Loss: nan\n",
      "Epoch 4/10, Iteration 171/250, Train Loss: nan\n",
      "Epoch 4/10, Iteration 181/250, Train Loss: nan\n",
      "Epoch 4/10, Iteration 191/250, Train Loss: nan\n"
     ]
    },
    {
     "name": "stderr",
     "output_type": "stream",
     "text": [
      "100%|██████████| 250/250 [00:00<00:00, 5592.97it/s]\n"
     ]
    },
    {
     "name": "stdout",
     "output_type": "stream",
     "text": [
      "Epoch 4/10, Iteration 201/250, Train Loss: nan\n",
      "Epoch 4/10, Iteration 211/250, Train Loss: nan\n",
      "Epoch 4/10, Iteration 221/250, Train Loss: nan\n",
      "Epoch 4/10, Iteration 231/250, Train Loss: nan\n",
      "Epoch 4/10, Iteration 241/250, Train Loss: nan\n",
      "Epoch 4/10, Iteration 1/63, Test Loss: nan\n",
      "Epoch 4/10, Iteration 11/63, Test Loss: nan\n",
      "Epoch 4/10, Iteration 21/63, Test Loss: nan\n",
      "Epoch 4/10, Iteration 31/63, Test Loss: nan\n",
      "Epoch 4/10, Iteration 41/63, Test Loss: nan\n",
      "Epoch 4/10, Iteration 51/63, Test Loss: nan\n",
      "Epoch 4/10, Iteration 61/63, Test Loss: nan\n"
     ]
    },
    {
     "name": "stderr",
     "output_type": "stream",
     "text": [
      "100%|██████████| 250/250 [00:00<00:00, 5647.95it/s]\n"
     ]
    },
    {
     "name": "stdout",
     "output_type": "stream",
     "text": [
      "Epoch 5/10, Iteration 1/250, Train Loss: nan\n",
      "Epoch 5/10, Iteration 11/250, Train Loss: nan\n",
      "Epoch 5/10, Iteration 21/250, Train Loss: nan\n",
      "Epoch 5/10, Iteration 31/250, Train Loss: nan\n",
      "Epoch 5/10, Iteration 41/250, Train Loss: nan\n",
      "Epoch 5/10, Iteration 51/250, Train Loss: nan\n",
      "Epoch 5/10, Iteration 61/250, Train Loss: nan\n",
      "Epoch 5/10, Iteration 71/250, Train Loss: nan\n",
      "Epoch 5/10, Iteration 81/250, Train Loss: nan\n",
      "Epoch 5/10, Iteration 91/250, Train Loss: nan\n",
      "Epoch 5/10, Iteration 101/250, Train Loss: nan\n",
      "Epoch 5/10, Iteration 111/250, Train Loss: nan\n",
      "Epoch 5/10, Iteration 121/250, Train Loss: nan\n",
      "Epoch 5/10, Iteration 131/250, Train Loss: nan\n",
      "Epoch 5/10, Iteration 141/250, Train Loss: nan\n",
      "Epoch 5/10, Iteration 151/250, Train Loss: nan\n",
      "Epoch 5/10, Iteration 161/250, Train Loss: nan\n",
      "Epoch 5/10, Iteration 171/250, Train Loss: nan\n",
      "Epoch 5/10, Iteration 181/250, Train Loss: nan\n",
      "Epoch 5/10, Iteration 191/250, Train Loss: nan\n",
      "Epoch 5/10, Iteration 201/250, Train Loss: nan\n",
      "Epoch 5/10, Iteration 211/250, Train Loss: nan\n",
      "Epoch 5/10, Iteration 221/250, Train Loss: nan\n",
      "Epoch 5/10, Iteration 231/250, Train Loss: nan\n",
      "Epoch 5/10, Iteration 241/250, Train Loss: nan\n",
      "Epoch 5/10, Iteration 1/63, Test Loss: nan\n",
      "Epoch 5/10, Iteration 11/63, Test Loss: nan\n",
      "Epoch 5/10, Iteration 21/63, Test Loss: nan\n",
      "Epoch 5/10, Iteration 31/63, Test Loss: nan\n",
      "Epoch 5/10, Iteration 41/63, Test Loss: nan\n",
      "Epoch 5/10, Iteration 51/63, Test Loss: nan\n",
      "Epoch 5/10, Iteration 61/63, Test Loss: nan\n"
     ]
    },
    {
     "name": "stderr",
     "output_type": "stream",
     "text": [
      "  0%|          | 0/250 [00:00<?, ?it/s]"
     ]
    },
    {
     "name": "stdout",
     "output_type": "stream",
     "text": [
      "Epoch 6/10, Iteration 1/250, Train Loss: nan\n",
      "Epoch 6/10, Iteration 11/250, Train Loss: nan\n"
     ]
    },
    {
     "name": "stderr",
     "output_type": "stream",
     "text": [
      "100%|██████████| 250/250 [00:00<00:00, 5465.80it/s]\n"
     ]
    },
    {
     "name": "stdout",
     "output_type": "stream",
     "text": [
      "Epoch 6/10, Iteration 21/250, Train Loss: nan\n",
      "Epoch 6/10, Iteration 31/250, Train Loss: nan\n",
      "Epoch 6/10, Iteration 41/250, Train Loss: nan\n",
      "Epoch 6/10, Iteration 51/250, Train Loss: nan\n",
      "Epoch 6/10, Iteration 61/250, Train Loss: nan\n",
      "Epoch 6/10, Iteration 71/250, Train Loss: nan\n",
      "Epoch 6/10, Iteration 81/250, Train Loss: nan\n",
      "Epoch 6/10, Iteration 91/250, Train Loss: nan\n",
      "Epoch 6/10, Iteration 101/250, Train Loss: nan\n",
      "Epoch 6/10, Iteration 111/250, Train Loss: nan\n",
      "Epoch 6/10, Iteration 121/250, Train Loss: nan\n",
      "Epoch 6/10, Iteration 131/250, Train Loss: nan\n",
      "Epoch 6/10, Iteration 141/250, Train Loss: nan\n",
      "Epoch 6/10, Iteration 151/250, Train Loss: nan\n",
      "Epoch 6/10, Iteration 161/250, Train Loss: nan\n",
      "Epoch 6/10, Iteration 171/250, Train Loss: nan\n",
      "Epoch 6/10, Iteration 181/250, Train Loss: nan\n",
      "Epoch 6/10, Iteration 191/250, Train Loss: nan\n",
      "Epoch 6/10, Iteration 201/250, Train Loss: nan\n",
      "Epoch 6/10, Iteration 211/250, Train Loss: nan\n",
      "Epoch 6/10, Iteration 221/250, Train Loss: nan\n",
      "Epoch 6/10, Iteration 231/250, Train Loss: nan\n",
      "Epoch 6/10, Iteration 241/250, Train Loss: nan\n",
      "Epoch 6/10, Iteration 1/63, Test Loss: nan\n",
      "Epoch 6/10, Iteration 11/63, Test Loss: nan\n",
      "Epoch 6/10, Iteration 21/63, Test Loss: nan\n",
      "Epoch 6/10, Iteration 31/63, Test Loss: nan\n",
      "Epoch 6/10, Iteration 41/63, Test Loss: nan\n",
      "Epoch 6/10, Iteration 51/63, Test Loss: nan\n",
      "Epoch 6/10, Iteration 61/63, Test Loss: nan\n"
     ]
    },
    {
     "name": "stderr",
     "output_type": "stream",
     "text": [
      "  0%|          | 0/250 [00:00<?, ?it/s]"
     ]
    },
    {
     "name": "stdout",
     "output_type": "stream",
     "text": [
      "Epoch 7/10, Iteration 1/250, Train Loss: nan\n"
     ]
    },
    {
     "name": "stderr",
     "output_type": "stream",
     "text": [
      "100%|██████████| 250/250 [00:00<00:00, 5434.33it/s]\n"
     ]
    },
    {
     "name": "stdout",
     "output_type": "stream",
     "text": [
      "Epoch 7/10, Iteration 11/250, Train Loss: nan\n",
      "Epoch 7/10, Iteration 21/250, Train Loss: nan\n",
      "Epoch 7/10, Iteration 31/250, Train Loss: nan\n",
      "Epoch 7/10, Iteration 41/250, Train Loss: nan\n",
      "Epoch 7/10, Iteration 51/250, Train Loss: nan\n",
      "Epoch 7/10, Iteration 61/250, Train Loss: nan\n",
      "Epoch 7/10, Iteration 71/250, Train Loss: nan\n",
      "Epoch 7/10, Iteration 81/250, Train Loss: nan\n",
      "Epoch 7/10, Iteration 91/250, Train Loss: nan\n",
      "Epoch 7/10, Iteration 101/250, Train Loss: nan\n",
      "Epoch 7/10, Iteration 111/250, Train Loss: nan\n",
      "Epoch 7/10, Iteration 121/250, Train Loss: nan\n",
      "Epoch 7/10, Iteration 131/250, Train Loss: nan\n",
      "Epoch 7/10, Iteration 141/250, Train Loss: nan\n",
      "Epoch 7/10, Iteration 151/250, Train Loss: nan\n",
      "Epoch 7/10, Iteration 161/250, Train Loss: nan\n",
      "Epoch 7/10, Iteration 171/250, Train Loss: nan\n",
      "Epoch 7/10, Iteration 181/250, Train Loss: nan\n",
      "Epoch 7/10, Iteration 191/250, Train Loss: nan\n",
      "Epoch 7/10, Iteration 201/250, Train Loss: nan\n",
      "Epoch 7/10, Iteration 211/250, Train Loss: nan\n",
      "Epoch 7/10, Iteration 221/250, Train Loss: nan\n",
      "Epoch 7/10, Iteration 231/250, Train Loss: nan\n",
      "Epoch 7/10, Iteration 241/250, Train Loss: nan\n",
      "Epoch 7/10, Iteration 1/63, Test Loss: nan\n",
      "Epoch 7/10, Iteration 11/63, Test Loss: nan\n",
      "Epoch 7/10, Iteration 21/63, Test Loss: nan\n",
      "Epoch 7/10, Iteration 31/63, Test Loss: nan\n",
      "Epoch 7/10, Iteration 41/63, Test Loss: nan\n",
      "Epoch 7/10, Iteration 51/63, Test Loss: nan\n",
      "Epoch 7/10, Iteration 61/63, Test Loss: nan\n"
     ]
    },
    {
     "name": "stderr",
     "output_type": "stream",
     "text": [
      "  0%|          | 0/250 [00:00<?, ?it/s]"
     ]
    },
    {
     "name": "stdout",
     "output_type": "stream",
     "text": [
      "Epoch 8/10, Iteration 1/250, Train Loss: nan\n",
      "Epoch 8/10, Iteration 11/250, Train Loss: nan\n",
      "Epoch 8/10, Iteration 21/250, Train Loss: nan\n",
      "Epoch 8/10, Iteration 31/250, Train Loss: nan\n",
      "Epoch 8/10, Iteration 41/250, Train Loss: nan\n",
      "Epoch 8/10, Iteration 51/250, Train Loss: nan\n",
      "Epoch 8/10, Iteration 61/250, Train Loss: nan\n",
      "Epoch 8/10, Iteration 71/250, Train Loss: nan\n",
      "Epoch 8/10, Iteration 81/250, Train Loss: nan\n",
      "Epoch 8/10, Iteration 91/250, Train Loss: nan\n",
      "Epoch 8/10, Iteration 101/250, Train Loss: nan\n",
      "Epoch 8/10, Iteration 111/250, Train Loss: nan\n",
      "Epoch 8/10, Iteration 121/250, Train Loss: nan\n",
      "Epoch 8/10, Iteration 131/250, Train Loss: nan\n",
      "Epoch 8/10, Iteration 141/250, Train Loss: nan\n",
      "Epoch 8/10, Iteration 151/250, Train Loss: nan\n",
      "Epoch 8/10, Iteration 161/250, Train Loss: nan\n",
      "Epoch 8/10, Iteration 171/250, Train Loss: nan\n",
      "Epoch 8/10, Iteration 181/250, Train Loss: nan\n",
      "Epoch 8/10, Iteration 191/250, Train Loss: nan\n",
      "Epoch 8/10, Iteration 201/250, Train Loss: nan\n",
      "Epoch 8/10, Iteration 211/250, Train Loss: nan\n",
      "Epoch 8/10, Iteration 221/250, Train Loss: nan\n",
      "Epoch 8/10, Iteration 231/250, Train Loss: nan\n",
      "Epoch 8/10, Iteration 241/250, Train Loss: nan\n"
     ]
    },
    {
     "name": "stderr",
     "output_type": "stream",
     "text": [
      "100%|██████████| 250/250 [00:00<00:00, 5351.71it/s]"
     ]
    },
    {
     "name": "stdout",
     "output_type": "stream",
     "text": [
      "Epoch 8/10, Iteration 1/63, Test Loss: nan\n"
     ]
    },
    {
     "name": "stderr",
     "output_type": "stream",
     "text": [
      "\n"
     ]
    },
    {
     "name": "stdout",
     "output_type": "stream",
     "text": [
      "Epoch 8/10, Iteration 11/63, Test Loss: nan\n",
      "Epoch 8/10, Iteration 21/63, Test Loss: nan\n",
      "Epoch 8/10, Iteration 31/63, Test Loss: nan\n",
      "Epoch 8/10, Iteration 41/63, Test Loss: nan\n",
      "Epoch 8/10, Iteration 51/63, Test Loss: nan\n",
      "Epoch 8/10, Iteration 61/63, Test Loss: nan\n"
     ]
    },
    {
     "name": "stderr",
     "output_type": "stream",
     "text": [
      "100%|██████████| 250/250 [00:00<00:00, 5718.36it/s]\n"
     ]
    },
    {
     "name": "stdout",
     "output_type": "stream",
     "text": [
      "Epoch 9/10, Iteration 1/250, Train Loss: nan\n",
      "Epoch 9/10, Iteration 11/250, Train Loss: nan\n",
      "Epoch 9/10, Iteration 21/250, Train Loss: nan\n",
      "Epoch 9/10, Iteration 31/250, Train Loss: nan\n",
      "Epoch 9/10, Iteration 41/250, Train Loss: nan\n",
      "Epoch 9/10, Iteration 51/250, Train Loss: nan\n",
      "Epoch 9/10, Iteration 61/250, Train Loss: nan\n",
      "Epoch 9/10, Iteration 71/250, Train Loss: nan\n",
      "Epoch 9/10, Iteration 81/250, Train Loss: nan\n",
      "Epoch 9/10, Iteration 91/250, Train Loss: nan\n",
      "Epoch 9/10, Iteration 101/250, Train Loss: nan\n",
      "Epoch 9/10, Iteration 111/250, Train Loss: nan\n",
      "Epoch 9/10, Iteration 121/250, Train Loss: nan\n",
      "Epoch 9/10, Iteration 131/250, Train Loss: nan\n",
      "Epoch 9/10, Iteration 141/250, Train Loss: nan\n",
      "Epoch 9/10, Iteration 151/250, Train Loss: nan\n",
      "Epoch 9/10, Iteration 161/250, Train Loss: nan\n",
      "Epoch 9/10, Iteration 171/250, Train Loss: nan\n",
      "Epoch 9/10, Iteration 181/250, Train Loss: nan\n",
      "Epoch 9/10, Iteration 191/250, Train Loss: nan\n",
      "Epoch 9/10, Iteration 201/250, Train Loss: nan\n",
      "Epoch 9/10, Iteration 211/250, Train Loss: nan\n",
      "Epoch 9/10, Iteration 221/250, Train Loss: nan\n",
      "Epoch 9/10, Iteration 231/250, Train Loss: nan\n",
      "Epoch 9/10, Iteration 241/250, Train Loss: nan\n",
      "Epoch 9/10, Iteration 1/63, Test Loss: nan\n",
      "Epoch 9/10, Iteration 11/63, Test Loss: nan\n",
      "Epoch 9/10, Iteration 21/63, Test Loss: nan\n",
      "Epoch 9/10, Iteration 31/63, Test Loss: nan\n",
      "Epoch 9/10, Iteration 41/63, Test Loss: nan\n",
      "Epoch 9/10, Iteration 51/63, Test Loss: nan\n",
      "Epoch 9/10, Iteration 61/63, Test Loss: nan\n"
     ]
    },
    {
     "name": "stderr",
     "output_type": "stream",
     "text": [
      "100%|██████████| 250/250 [00:00<00:00, 5664.67it/s]\n"
     ]
    },
    {
     "name": "stdout",
     "output_type": "stream",
     "text": [
      "Epoch 10/10, Iteration 1/250, Train Loss: nan\n",
      "Epoch 10/10, Iteration 11/250, Train Loss: nan\n",
      "Epoch 10/10, Iteration 21/250, Train Loss: nan\n",
      "Epoch 10/10, Iteration 31/250, Train Loss: nan\n",
      "Epoch 10/10, Iteration 41/250, Train Loss: nan\n",
      "Epoch 10/10, Iteration 51/250, Train Loss: nan\n",
      "Epoch 10/10, Iteration 61/250, Train Loss: nan\n",
      "Epoch 10/10, Iteration 71/250, Train Loss: nan\n",
      "Epoch 10/10, Iteration 81/250, Train Loss: nan\n",
      "Epoch 10/10, Iteration 91/250, Train Loss: nan\n",
      "Epoch 10/10, Iteration 101/250, Train Loss: nan\n",
      "Epoch 10/10, Iteration 111/250, Train Loss: nan\n",
      "Epoch 10/10, Iteration 121/250, Train Loss: nan\n",
      "Epoch 10/10, Iteration 131/250, Train Loss: nan\n",
      "Epoch 10/10, Iteration 141/250, Train Loss: nan\n",
      "Epoch 10/10, Iteration 151/250, Train Loss: nan\n",
      "Epoch 10/10, Iteration 161/250, Train Loss: nan\n",
      "Epoch 10/10, Iteration 171/250, Train Loss: nan\n",
      "Epoch 10/10, Iteration 181/250, Train Loss: nan\n",
      "Epoch 10/10, Iteration 191/250, Train Loss: nan\n",
      "Epoch 10/10, Iteration 201/250, Train Loss: nan\n",
      "Epoch 10/10, Iteration 211/250, Train Loss: nan\n",
      "Epoch 10/10, Iteration 221/250, Train Loss: nan\n",
      "Epoch 10/10, Iteration 231/250, Train Loss: nan\n",
      "Epoch 10/10, Iteration 241/250, Train Loss: nan\n",
      "Epoch 10/10, Iteration 1/63, Test Loss: nan\n",
      "Epoch 10/10, Iteration 11/63, Test Loss: nan\n",
      "Epoch 10/10, Iteration 21/63, Test Loss: nan\n",
      "Epoch 10/10, Iteration 31/63, Test Loss: nan\n",
      "Epoch 10/10, Iteration 41/63, Test Loss: nan\n",
      "Epoch 10/10, Iteration 51/63, Test Loss: nan\n",
      "Epoch 10/10, Iteration 61/63, Test Loss: nan\n"
     ]
    }
   ],
   "source": [
    "# 2. Implement missing parts in the training routine\n",
    "\n",
    "# rescale data to [-1,1]\n",
    "amin = np.amin(Xtrain, axis=0, keepdims=True)\n",
    "amax = np.amax(Xtrain, axis=0, keepdims=True)\n",
    "\n",
    "Xtrain = ((Xtrain-amin)/(amax-amin)-0.5)/0.5\n",
    "Xtest = ((Xtest-amin)/(amax-amin)-0.5)/0.5\n",
    "\n",
    "batch_size = 32\n",
    "num_epochs = 10\n",
    "learning_rate = 3e-2\n",
    "\n",
    "# create MLP\n",
    "hidden_channels = [30,30]\n",
    "mlp = MLP(2, hidden_channels, 2)\n",
    "\n",
    "losses_train = []\n",
    "losses_test = []\n",
    "\n",
    "# train network\n",
    "losses_train, losses_test = train_network(mlp, Ntrain, Ntest, Xtrain, ytrain, Xtest, ytest, num_epochs=num_epochs, batch_size=batch_size, learning_rate=learning_rate)\n"
   ]
  },
  {
   "cell_type": "code",
   "execution_count": 114,
   "metadata": {},
   "outputs": [],
   "source": [
    "def plot_loss_curves(losses_train, losses_test, path=RESULTS_PATH, file_name=\"losses\"):\n",
    "    plt.figure(figsize=(10, 6))\n",
    "    plt.plot(losses_train, label=\"Training Loss\", marker='o', markersize=4, linestyle='-', color='blue')\n",
    "    plt.plot(losses_test, label=\"Testing Loss\", marker='o', markersize=4, linestyle='-', color='red')\n",
    "    plt.title(\"Loss Curves for Training and Testing Sets\", fontsize=16)\n",
    "    plt.xlabel(\"Epoch\", fontsize=14)\n",
    "    plt.ylabel(\"Loss\", fontsize=14)\n",
    "    plt.legend(fontsize=14)\n",
    "    plt.grid(True)\n",
    "\n",
    "    # store plot in results folder\n",
    "    # check if folder exists, if not create it\n",
    "    if not os.path.exists(path):\n",
    "        os.makedirs(path)\n",
    "\n",
    "    plt.savefig(f\"{path}/{file_name}.png\", dpi=300)\n",
    "    plt.show()\n"
   ]
  },
  {
   "cell_type": "code",
   "execution_count": 115,
   "metadata": {},
   "outputs": [
    {
     "data": {
      "image/png": "[encoded data removed]",
      "text/plain": [
       "<Figure size 1000x600 with 1 Axes>"
      ]
     },
     "metadata": {},
     "output_type": "display_data"
    }
   ],
   "source": [
    "# 3. Plot loss curves on training and test set\n",
    "plot_loss_curves(losses_train, losses_test, file_name=\"mlp_loss_curves_small_1\")"
   ]
  },
  {
   "cell_type": "code",
   "execution_count": 116,
   "metadata": {},
   "outputs": [
    {
     "name": "stderr",
     "output_type": "stream",
     "text": [
      "100%|██████████| 250/250 [00:00<00:00, 3554.42it/s]\n"
     ]
    },
    {
     "name": "stdout",
     "output_type": "stream",
     "text": [
      "Epoch 1/10, Iteration 1/250, Train Loss: 0.6931173205375671\n",
      "Epoch 1/10, Iteration 11/250, Train Loss: 0.6282324194908142\n",
      "Epoch 1/10, Iteration 21/250, Train Loss: 0.728484034538269\n",
      "Epoch 1/10, Iteration 31/250, Train Loss: 0.7104911804199219\n",
      "Epoch 1/10, Iteration 41/250, Train Loss: 0.6648252010345459\n",
      "Epoch 1/10, Iteration 51/250, Train Loss: 3.4570062160491943\n",
      "Epoch 1/10, Iteration 61/250, Train Loss: 0.6319438815116882\n",
      "Epoch 1/10, Iteration 71/250, Train Loss: 0.7228153347969055\n",
      "Epoch 1/10, Iteration 81/250, Train Loss: 0.687254011631012\n",
      "Epoch 1/10, Iteration 91/250, Train Loss: 0.6946790218353271\n",
      "Epoch 1/10, Iteration 101/250, Train Loss: 0.7449804544448853\n",
      "Epoch 1/10, Iteration 111/250, Train Loss: 0.6933919787406921\n",
      "Epoch 1/10, Iteration 121/250, Train Loss: 0.7068463563919067\n",
      "Epoch 1/10, Iteration 131/250, Train Loss: 0.7020163536071777\n",
      "Epoch 1/10, Iteration 141/250, Train Loss: 0.7062070369720459\n",
      "Epoch 1/10, Iteration 151/250, Train Loss: 0.6934336423873901\n",
      "Epoch 1/10, Iteration 161/250, Train Loss: 0.9009227156639099\n",
      "Epoch 1/10, Iteration 171/250, Train Loss: 0.7158709168434143\n",
      "Epoch 1/10, Iteration 181/250, Train Loss: 0.6799094676971436\n",
      "Epoch 1/10, Iteration 191/250, Train Loss: 0.6911963224411011\n",
      "Epoch 1/10, Iteration 201/250, Train Loss: 0.6943132877349854\n",
      "Epoch 1/10, Iteration 211/250, Train Loss: 0.7145699262619019\n",
      "Epoch 1/10, Iteration 221/250, Train Loss: 0.7955882549285889\n",
      "Epoch 1/10, Iteration 231/250, Train Loss: 0.6790820956230164\n",
      "Epoch 1/10, Iteration 241/250, Train Loss: 0.7327395677566528\n",
      "Epoch 1/10, Iteration 1/63, Test Loss: 0.7180396318435669\n",
      "Epoch 1/10, Iteration 11/63, Test Loss: 0.7498223781585693\n",
      "Epoch 1/10, Iteration 21/63, Test Loss: 0.6862568855285645\n",
      "Epoch 1/10, Iteration 31/63, Test Loss: 0.7498222589492798\n",
      "Epoch 1/10, Iteration 41/63, Test Loss: 0.6650683879852295\n",
      "Epoch 1/10, Iteration 51/63, Test Loss: 0.6862568855285645\n",
      "Epoch 1/10, Iteration 61/63, Test Loss: 0.7180396318435669\n"
     ]
    },
    {
     "name": "stderr",
     "output_type": "stream",
     "text": [
      "100%|██████████| 250/250 [00:00<00:00, 3545.59it/s]\n"
     ]
    },
    {
     "name": "stdout",
     "output_type": "stream",
     "text": [
      "Epoch 2/10, Iteration 1/250, Train Loss: 0.7180396318435669\n",
      "Epoch 2/10, Iteration 11/250, Train Loss: 0.6912686228752136\n",
      "Epoch 2/10, Iteration 21/250, Train Loss: 0.706342875957489\n",
      "Epoch 2/10, Iteration 31/250, Train Loss: 0.7291951179504395\n",
      "Epoch 2/10, Iteration 41/250, Train Loss: 0.7142719030380249\n",
      "Epoch 2/10, Iteration 51/250, Train Loss: 0.6773805618286133\n",
      "Epoch 2/10, Iteration 61/250, Train Loss: 0.6915248036384583\n",
      "Epoch 2/10, Iteration 71/250, Train Loss: 0.8207314014434814\n",
      "Epoch 2/10, Iteration 81/250, Train Loss: 0.749340295791626\n",
      "Epoch 2/10, Iteration 91/250, Train Loss: 0.6948550939559937\n",
      "Epoch 2/10, Iteration 101/250, Train Loss: 0.7074034214019775\n",
      "Epoch 2/10, Iteration 111/250, Train Loss: 0.6987066864967346\n",
      "Epoch 2/10, Iteration 121/250, Train Loss: 0.6211122274398804\n",
      "Epoch 2/10, Iteration 131/250, Train Loss: 0.7088909149169922\n",
      "Epoch 2/10, Iteration 141/250, Train Loss: 0.6618397831916809\n",
      "Epoch 2/10, Iteration 151/250, Train Loss: 0.7534422874450684\n",
      "Epoch 2/10, Iteration 161/250, Train Loss: 0.6755967736244202\n",
      "Epoch 2/10, Iteration 171/250, Train Loss: 0.7381201386451721\n",
      "Epoch 2/10, Iteration 181/250, Train Loss: 0.7552247047424316\n",
      "Epoch 2/10, Iteration 191/250, Train Loss: 0.6853443384170532\n",
      "Epoch 2/10, Iteration 201/250, Train Loss: 0.6878393888473511\n",
      "Epoch 2/10, Iteration 211/250, Train Loss: 0.6853142976760864\n",
      "Epoch 2/10, Iteration 221/250, Train Loss: 0.7571014165878296\n",
      "Epoch 2/10, Iteration 231/250, Train Loss: 0.6945596933364868\n",
      "Epoch 2/10, Iteration 241/250, Train Loss: 0.6971457004547119\n",
      "Epoch 2/10, Iteration 1/63, Test Loss: 0.6986956000328064\n",
      "Epoch 2/10, Iteration 11/63, Test Loss: 0.7099449634552002\n",
      "Epoch 2/10, Iteration 21/63, Test Loss: 0.6874462962150574\n",
      "Epoch 2/10, Iteration 31/63, Test Loss: 0.7099449634552002\n",
      "Epoch 2/10, Iteration 41/63, Test Loss: 0.6799467206001282\n",
      "Epoch 2/10, Iteration 51/63, Test Loss: 0.6874462366104126\n",
      "Epoch 2/10, Iteration 61/63, Test Loss: 0.6986956000328064\n"
     ]
    },
    {
     "name": "stderr",
     "output_type": "stream",
     "text": [
      "  0%|          | 0/250 [00:00<?, ?it/s]"
     ]
    },
    {
     "name": "stdout",
     "output_type": "stream",
     "text": [
      "Epoch 3/10, Iteration 1/250, Train Loss: 0.7061951756477356\n",
      "Epoch 3/10, Iteration 11/250, Train Loss: 0.6926859021186829\n",
      "Epoch 3/10, Iteration 21/250, Train Loss: 0.7019944190979004\n",
      "Epoch 3/10, Iteration 31/250, Train Loss: 0.6993308663368225\n",
      "Epoch 3/10, Iteration 41/250, Train Loss: 0.6912302374839783\n",
      "Epoch 3/10, Iteration 51/250, Train Loss: 0.6767216920852661\n",
      "Epoch 3/10, Iteration 61/250, Train Loss: 0.7077083587646484\n",
      "Epoch 3/10, Iteration 71/250, Train Loss: 0.7221879363059998\n",
      "Epoch 3/10, Iteration 81/250, Train Loss: 0.6616733074188232\n",
      "Epoch 3/10, Iteration 91/250, Train Loss: 0.7059198617935181\n",
      "Epoch 3/10, Iteration 101/250, Train Loss: 0.691842257976532\n",
      "Epoch 3/10, Iteration 111/250, Train Loss: 0.6932985782623291\n",
      "Epoch 3/10, Iteration 121/250, Train Loss: 0.7234658002853394\n",
      "Epoch 3/10, Iteration 131/250, Train Loss: 0.851695716381073\n",
      "Epoch 3/10, Iteration 141/250, Train Loss: 0.7014025449752808\n",
      "Epoch 3/10, Iteration 151/250, Train Loss: 0.7533852458000183\n",
      "Epoch 3/10, Iteration 161/250, Train Loss: 0.6771841645240784\n"
     ]
    },
    {
     "name": "stderr",
     "output_type": "stream",
     "text": [
      "100%|██████████| 250/250 [00:00<00:00, 3510.30it/s]\n"
     ]
    },
    {
     "name": "stdout",
     "output_type": "stream",
     "text": [
      "Epoch 3/10, Iteration 171/250, Train Loss: 0.7070881128311157\n",
      "Epoch 3/10, Iteration 181/250, Train Loss: 0.7964245676994324\n",
      "Epoch 3/10, Iteration 191/250, Train Loss: 0.6856210231781006\n",
      "Epoch 3/10, Iteration 201/250, Train Loss: 0.6863207817077637\n",
      "Epoch 3/10, Iteration 211/250, Train Loss: 0.7497292757034302\n",
      "Epoch 3/10, Iteration 221/250, Train Loss: 0.7678201794624329\n",
      "Epoch 3/10, Iteration 231/250, Train Loss: 0.6837700009346008\n",
      "Epoch 3/10, Iteration 241/250, Train Loss: 0.7210952639579773\n",
      "Epoch 3/10, Iteration 1/63, Test Loss: 0.6989063620567322\n",
      "Epoch 3/10, Iteration 11/63, Test Loss: 0.710476279258728\n",
      "Epoch 3/10, Iteration 21/63, Test Loss: 0.6873365640640259\n",
      "Epoch 3/10, Iteration 31/63, Test Loss: 0.710476279258728\n",
      "Epoch 3/10, Iteration 41/63, Test Loss: 0.6796232461929321\n",
      "Epoch 3/10, Iteration 51/63, Test Loss: 0.6873365640640259\n",
      "Epoch 3/10, Iteration 61/63, Test Loss: 0.6989063620567322\n"
     ]
    },
    {
     "name": "stderr",
     "output_type": "stream",
     "text": [
      "  0%|          | 0/250 [00:00<?, ?it/s]"
     ]
    },
    {
     "name": "stdout",
     "output_type": "stream",
     "text": [
      "Epoch 4/10, Iteration 1/250, Train Loss: 0.6873364448547363\n",
      "Epoch 4/10, Iteration 11/250, Train Loss: 0.6621836423873901\n",
      "Epoch 4/10, Iteration 21/250, Train Loss: 0.701431155204773\n",
      "Epoch 4/10, Iteration 31/250, Train Loss: 0.7222903370857239\n",
      "Epoch 4/10, Iteration 41/250, Train Loss: 0.7279027700424194\n",
      "Epoch 4/10, Iteration 51/250, Train Loss: 0.7233999967575073\n",
      "Epoch 4/10, Iteration 61/250, Train Loss: 0.7375122308731079\n",
      "Epoch 4/10, Iteration 71/250, Train Loss: 0.6504172682762146\n",
      "Epoch 4/10, Iteration 81/250, Train Loss: 0.6932733058929443\n",
      "Epoch 4/10, Iteration 91/250, Train Loss: 0.6783865690231323\n",
      "Epoch 4/10, Iteration 101/250, Train Loss: 0.6969947814941406\n",
      "Epoch 4/10, Iteration 111/250, Train Loss: 0.7004405856132507\n",
      "Epoch 4/10, Iteration 121/250, Train Loss: 0.7014855146408081\n",
      "Epoch 4/10, Iteration 131/250, Train Loss: 0.6737210750579834\n",
      "Epoch 4/10, Iteration 141/250, Train Loss: 0.6937924027442932\n",
      "Epoch 4/10, Iteration 151/250, Train Loss: 0.6923741102218628\n"
     ]
    },
    {
     "name": "stderr",
     "output_type": "stream",
     "text": [
      "100%|██████████| 250/250 [00:00<00:00, 3301.46it/s]\n"
     ]
    },
    {
     "name": "stdout",
     "output_type": "stream",
     "text": [
      "Epoch 4/10, Iteration 161/250, Train Loss: 0.6627305746078491\n",
      "Epoch 4/10, Iteration 171/250, Train Loss: 0.7091912031173706\n",
      "Epoch 4/10, Iteration 181/250, Train Loss: 0.6840636730194092\n",
      "Epoch 4/10, Iteration 191/250, Train Loss: 0.7131202220916748\n",
      "Epoch 4/10, Iteration 201/250, Train Loss: 0.6933549642562866\n",
      "Epoch 4/10, Iteration 211/250, Train Loss: 0.6923959255218506\n",
      "Epoch 4/10, Iteration 221/250, Train Loss: 0.708257794380188\n",
      "Epoch 4/10, Iteration 231/250, Train Loss: 0.6216703057289124\n",
      "Epoch 4/10, Iteration 241/250, Train Loss: 0.7107479572296143\n",
      "Epoch 4/10, Iteration 1/63, Test Loss: 0.7575714588165283\n",
      "Epoch 4/10, Iteration 11/63, Test Loss: 0.81452476978302\n",
      "Epoch 4/10, Iteration 21/63, Test Loss: 0.7006181478500366\n",
      "Epoch 4/10, Iteration 31/63, Test Loss: 0.81452476978302\n",
      "Epoch 4/10, Iteration 41/63, Test Loss: 0.6626492738723755\n",
      "Epoch 4/10, Iteration 51/63, Test Loss: 0.7006181478500366\n",
      "Epoch 4/10, Iteration 61/63, Test Loss: 0.7575714588165283\n"
     ]
    },
    {
     "name": "stderr",
     "output_type": "stream",
     "text": [
      "  0%|          | 0/250 [00:00<?, ?it/s]"
     ]
    },
    {
     "name": "stdout",
     "output_type": "stream",
     "text": [
      "Epoch 5/10, Iteration 1/250, Train Loss: 0.7955403327941895\n",
      "Epoch 5/10, Iteration 11/250, Train Loss: 0.677322268486023\n",
      "Epoch 5/10, Iteration 21/250, Train Loss: 0.6941289305686951\n",
      "Epoch 5/10, Iteration 31/250, Train Loss: 0.7009494304656982\n",
      "Epoch 5/10, Iteration 41/250, Train Loss: 0.707349956035614\n",
      "Epoch 5/10, Iteration 51/250, Train Loss: 0.6880883574485779\n",
      "Epoch 5/10, Iteration 61/250, Train Loss: 0.8061786890029907\n",
      "Epoch 5/10, Iteration 71/250, Train Loss: 0.6877124309539795\n",
      "Epoch 5/10, Iteration 81/250, Train Loss: 0.6841326951980591\n",
      "Epoch 5/10, Iteration 91/250, Train Loss: 0.6756429672241211\n",
      "Epoch 5/10, Iteration 101/250, Train Loss: 0.6853179335594177\n",
      "Epoch 5/10, Iteration 111/250, Train Loss: 0.7200411558151245\n",
      "Epoch 5/10, Iteration 121/250, Train Loss: 0.6943947076797485\n",
      "Epoch 5/10, Iteration 131/250, Train Loss: 0.735944926738739\n",
      "Epoch 5/10, Iteration 141/250, Train Loss: 0.6926432847976685\n"
     ]
    },
    {
     "name": "stderr",
     "output_type": "stream",
     "text": [
      "100%|██████████| 250/250 [00:00<00:00, 3480.35it/s]\n"
     ]
    },
    {
     "name": "stdout",
     "output_type": "stream",
     "text": [
      "Epoch 5/10, Iteration 151/250, Train Loss: 0.7061952352523804\n",
      "Epoch 5/10, Iteration 161/250, Train Loss: 0.7079284191131592\n",
      "Epoch 5/10, Iteration 171/250, Train Loss: 0.6925184726715088\n",
      "Epoch 5/10, Iteration 181/250, Train Loss: 0.7534797191619873\n",
      "Epoch 5/10, Iteration 191/250, Train Loss: 0.663110077381134\n",
      "Epoch 5/10, Iteration 201/250, Train Loss: 0.7229244709014893\n",
      "Epoch 5/10, Iteration 211/250, Train Loss: 0.7034245729446411\n",
      "Epoch 5/10, Iteration 221/250, Train Loss: 0.6876000761985779\n",
      "Epoch 5/10, Iteration 231/250, Train Loss: 0.6700223088264465\n",
      "Epoch 5/10, Iteration 241/250, Train Loss: 0.7116681337356567\n",
      "Epoch 5/10, Iteration 1/63, Test Loss: 0.7088395357131958\n",
      "Epoch 5/10, Iteration 11/63, Test Loss: 0.6615684032440186\n",
      "Epoch 5/10, Iteration 21/63, Test Loss: 0.756110668182373\n",
      "Epoch 5/10, Iteration 31/63, Test Loss: 0.6615683436393738\n",
      "Epoch 5/10, Iteration 41/63, Test Loss: 0.787624716758728\n",
      "Epoch 5/10, Iteration 51/63, Test Loss: 0.756110668182373\n",
      "Epoch 5/10, Iteration 61/63, Test Loss: 0.708839476108551\n"
     ]
    },
    {
     "name": "stderr",
     "output_type": "stream",
     "text": [
      "  0%|          | 0/250 [00:00<?, ?it/s]"
     ]
    },
    {
     "name": "stdout",
     "output_type": "stream",
     "text": [
      "Epoch 6/10, Iteration 1/250, Train Loss: 0.756110668182373\n",
      "Epoch 6/10, Iteration 11/250, Train Loss: 0.6868016123771667\n",
      "Epoch 6/10, Iteration 21/250, Train Loss: 0.6766765713691711\n",
      "Epoch 6/10, Iteration 31/250, Train Loss: 0.6782419681549072\n",
      "Epoch 6/10, Iteration 41/250, Train Loss: 0.7014302015304565\n",
      "Epoch 6/10, Iteration 51/250, Train Loss: 0.6870477795600891\n",
      "Epoch 6/10, Iteration 61/250, Train Loss: 0.6867648363113403\n",
      "Epoch 6/10, Iteration 71/250, Train Loss: 0.6615955829620361\n",
      "Epoch 6/10, Iteration 81/250, Train Loss: 0.6825849413871765\n",
      "Epoch 6/10, Iteration 91/250, Train Loss: 0.7198983430862427\n",
      "Epoch 6/10, Iteration 101/250, Train Loss: 0.6920577883720398\n",
      "Epoch 6/10, Iteration 111/250, Train Loss: 0.690945029258728\n",
      "Epoch 6/10, Iteration 121/250, Train Loss: 0.7485843896865845\n",
      "Epoch 6/10, Iteration 131/250, Train Loss: 0.6931643486022949\n",
      "Epoch 6/10, Iteration 141/250, Train Loss: 0.7020338773727417\n"
     ]
    },
    {
     "name": "stderr",
     "output_type": "stream",
     "text": [
      "100%|██████████| 250/250 [00:00<00:00, 3467.74it/s]\n"
     ]
    },
    {
     "name": "stdout",
     "output_type": "stream",
     "text": [
      "Epoch 6/10, Iteration 151/250, Train Loss: 0.7430474162101746\n",
      "Epoch 6/10, Iteration 161/250, Train Loss: 0.6919776201248169\n",
      "Epoch 6/10, Iteration 171/250, Train Loss: 0.6755828857421875\n",
      "Epoch 6/10, Iteration 181/250, Train Loss: 0.7064040899276733\n",
      "Epoch 6/10, Iteration 191/250, Train Loss: 0.6875928044319153\n",
      "Epoch 6/10, Iteration 201/250, Train Loss: 0.6911981701850891\n",
      "Epoch 6/10, Iteration 211/250, Train Loss: 0.6731882691383362\n",
      "Epoch 6/10, Iteration 221/250, Train Loss: 0.7176898121833801\n",
      "Epoch 6/10, Iteration 231/250, Train Loss: 0.6873022317886353\n",
      "Epoch 6/10, Iteration 241/250, Train Loss: 0.671061098575592\n",
      "Epoch 6/10, Iteration 1/63, Test Loss: 0.7082086801528931\n",
      "Epoch 6/10, Iteration 11/63, Test Loss: 0.6615846157073975\n",
      "Epoch 6/10, Iteration 21/63, Test Loss: 0.7548326253890991\n",
      "Epoch 6/10, Iteration 31/63, Test Loss: 0.6615846157073975\n",
      "Epoch 6/10, Iteration 41/63, Test Loss: 0.7859152555465698\n",
      "Epoch 6/10, Iteration 51/63, Test Loss: 0.7548326253890991\n",
      "Epoch 6/10, Iteration 61/63, Test Loss: 0.7082085609436035\n"
     ]
    },
    {
     "name": "stderr",
     "output_type": "stream",
     "text": [
      "  0%|          | 0/250 [00:00<?, ?it/s]"
     ]
    },
    {
     "name": "stdout",
     "output_type": "stream",
     "text": [
      "Epoch 7/10, Iteration 1/250, Train Loss: 0.7237499356269836\n",
      "Epoch 7/10, Iteration 11/250, Train Loss: 0.6930739283561707\n",
      "Epoch 7/10, Iteration 21/250, Train Loss: 0.6944738030433655\n",
      "Epoch 7/10, Iteration 31/250, Train Loss: 0.7179412245750427\n",
      "Epoch 7/10, Iteration 41/250, Train Loss: 0.7311338186264038\n",
      "Epoch 7/10, Iteration 51/250, Train Loss: 0.8031297922134399\n",
      "Epoch 7/10, Iteration 61/250, Train Loss: 0.6943368911743164\n",
      "Epoch 7/10, Iteration 71/250, Train Loss: 0.7319193482398987\n",
      "Epoch 7/10, Iteration 81/250, Train Loss: 0.7535322904586792\n",
      "Epoch 7/10, Iteration 91/250, Train Loss: 0.6917080879211426\n",
      "Epoch 7/10, Iteration 101/250, Train Loss: 0.7033908367156982\n",
      "Epoch 7/10, Iteration 111/250, Train Loss: 0.7131584882736206\n",
      "Epoch 7/10, Iteration 121/250, Train Loss: 0.7767923474311829\n",
      "Epoch 7/10, Iteration 131/250, Train Loss: 0.6907168030738831\n"
     ]
    },
    {
     "name": "stderr",
     "output_type": "stream",
     "text": [
      "100%|██████████| 250/250 [00:00<00:00, 3290.90it/s]\n"
     ]
    },
    {
     "name": "stdout",
     "output_type": "stream",
     "text": [
      "Epoch 7/10, Iteration 141/250, Train Loss: 0.714142382144928\n",
      "Epoch 7/10, Iteration 151/250, Train Loss: 0.7171972393989563\n",
      "Epoch 7/10, Iteration 161/250, Train Loss: 0.7192713022232056\n",
      "Epoch 7/10, Iteration 171/250, Train Loss: 0.6933223009109497\n",
      "Epoch 7/10, Iteration 181/250, Train Loss: 0.6798836588859558\n",
      "Epoch 7/10, Iteration 191/250, Train Loss: 0.666601300239563\n",
      "Epoch 7/10, Iteration 201/250, Train Loss: 0.7571926116943359\n",
      "Epoch 7/10, Iteration 211/250, Train Loss: 0.6912075281143188\n",
      "Epoch 7/10, Iteration 221/250, Train Loss: 0.706049919128418\n",
      "Epoch 7/10, Iteration 231/250, Train Loss: 0.6813520193099976\n",
      "Epoch 7/10, Iteration 241/250, Train Loss: 0.6941480040550232\n",
      "Epoch 7/10, Iteration 1/63, Test Loss: 0.7076864838600159\n",
      "Epoch 7/10, Iteration 11/63, Test Loss: 0.7300382852554321\n",
      "Epoch 7/10, Iteration 21/63, Test Loss: 0.6853346824645996\n",
      "Epoch 7/10, Iteration 31/63, Test Loss: 0.7300382852554321\n",
      "Epoch 7/10, Iteration 41/63, Test Loss: 0.6704334616661072\n",
      "Epoch 7/10, Iteration 51/63, Test Loss: 0.6853346228599548\n",
      "Epoch 7/10, Iteration 61/63, Test Loss: 0.7076864838600159\n"
     ]
    },
    {
     "name": "stderr",
     "output_type": "stream",
     "text": [
      "  0%|          | 0/250 [00:00<?, ?it/s]"
     ]
    },
    {
     "name": "stdout",
     "output_type": "stream",
     "text": [
      "Epoch 8/10, Iteration 1/250, Train Loss: 0.6853346824645996\n",
      "Epoch 8/10, Iteration 11/250, Train Loss: 0.7332816123962402\n",
      "Epoch 8/10, Iteration 21/250, Train Loss: 0.642227292060852\n",
      "Epoch 8/10, Iteration 31/250, Train Loss: 0.7097243666648865\n",
      "Epoch 8/10, Iteration 41/250, Train Loss: 0.6922513842582703\n",
      "Epoch 8/10, Iteration 51/250, Train Loss: 0.7006605863571167\n",
      "Epoch 8/10, Iteration 61/250, Train Loss: 0.7168503403663635\n",
      "Epoch 8/10, Iteration 71/250, Train Loss: 0.6937984824180603\n",
      "Epoch 8/10, Iteration 81/250, Train Loss: 0.6764519214630127\n",
      "Epoch 8/10, Iteration 91/250, Train Loss: 0.7048147320747375\n",
      "Epoch 8/10, Iteration 101/250, Train Loss: 0.6774868369102478\n",
      "Epoch 8/10, Iteration 111/250, Train Loss: 0.7420233488082886\n",
      "Epoch 8/10, Iteration 121/250, Train Loss: 0.6913511753082275\n",
      "Epoch 8/10, Iteration 131/250, Train Loss: 0.700224757194519\n",
      "Epoch 8/10, Iteration 141/250, Train Loss: 0.7656784057617188\n",
      "Epoch 8/10, Iteration 151/250, Train Loss: 0.7006571292877197\n",
      "Epoch 8/10, Iteration 161/250, Train Loss: 0.69731205701828\n",
      "Epoch 8/10, Iteration 171/250, Train Loss: 0.7478471398353577\n"
     ]
    },
    {
     "name": "stderr",
     "output_type": "stream",
     "text": [
      "100%|██████████| 250/250 [00:00<00:00, 3221.35it/s]"
     ]
    },
    {
     "name": "stdout",
     "output_type": "stream",
     "text": [
      "Epoch 8/10, Iteration 181/250, Train Loss: 0.7253789901733398\n",
      "Epoch 8/10, Iteration 191/250, Train Loss: 0.692981481552124\n",
      "Epoch 8/10, Iteration 201/250, Train Loss: 0.6926344037055969\n",
      "Epoch 8/10, Iteration 211/250, Train Loss: 0.6993582844734192\n",
      "Epoch 8/10, Iteration 221/250, Train Loss: 0.7998202443122864\n",
      "Epoch 8/10, Iteration 231/250, Train Loss: 0.867912769317627\n",
      "Epoch 8/10, Iteration 241/250, Train Loss: 0.7938310503959656\n",
      "Epoch 8/10, Iteration 1/63, Test Loss: 0.7339183688163757\n",
      "Epoch 8/10, Iteration 11/63, Test Loss: 0.777157723903656\n",
      "Epoch 8/10, Iteration 21/63, Test Loss: 0.6906790137290955\n",
      "Epoch 8/10, Iteration 31/63, Test Loss: 0.777157723903656\n",
      "Epoch 8/10, Iteration 41/63, Test Loss: 0.6618527770042419\n",
      "Epoch 8/10, Iteration 51/63, Test Loss: 0.6906790137290955\n"
     ]
    },
    {
     "name": "stderr",
     "output_type": "stream",
     "text": [
      "\n"
     ]
    },
    {
     "name": "stdout",
     "output_type": "stream",
     "text": [
      "Epoch 8/10, Iteration 61/63, Test Loss: 0.7339183688163757\n"
     ]
    },
    {
     "name": "stderr",
     "output_type": "stream",
     "text": [
      "  0%|          | 0/250 [00:00<?, ?it/s]"
     ]
    },
    {
     "name": "stdout",
     "output_type": "stream",
     "text": [
      "Epoch 9/10, Iteration 1/250, Train Loss: 0.6762658953666687\n",
      "Epoch 9/10, Iteration 11/250, Train Loss: 0.6754734516143799\n",
      "Epoch 9/10, Iteration 21/250, Train Loss: 0.777150571346283\n",
      "Epoch 9/10, Iteration 31/250, Train Loss: 0.6931501030921936\n",
      "Epoch 9/10, Iteration 41/250, Train Loss: 0.6937537789344788\n",
      "Epoch 9/10, Iteration 51/250, Train Loss: 0.6987015008926392\n",
      "Epoch 9/10, Iteration 61/250, Train Loss: 0.6755183935165405\n",
      "Epoch 9/10, Iteration 71/250, Train Loss: 0.7294009327888489\n",
      "Epoch 9/10, Iteration 81/250, Train Loss: 0.8432351350784302\n",
      "Epoch 9/10, Iteration 91/250, Train Loss: 0.6979678273200989\n",
      "Epoch 9/10, Iteration 101/250, Train Loss: 0.6952882409095764\n",
      "Epoch 9/10, Iteration 111/250, Train Loss: 0.6853142380714417\n",
      "Epoch 9/10, Iteration 121/250, Train Loss: 0.6880847215652466\n",
      "Epoch 9/10, Iteration 131/250, Train Loss: 0.7178296446800232\n",
      "Epoch 9/10, Iteration 141/250, Train Loss: 0.706865668296814\n",
      "Epoch 9/10, Iteration 151/250, Train Loss: 0.6853445768356323\n",
      "Epoch 9/10, Iteration 161/250, Train Loss: 0.7689563632011414\n"
     ]
    },
    {
     "name": "stderr",
     "output_type": "stream",
     "text": [
      "100%|██████████| 250/250 [00:00<00:00, 3467.75it/s]\n"
     ]
    },
    {
     "name": "stdout",
     "output_type": "stream",
     "text": [
      "Epoch 9/10, Iteration 171/250, Train Loss: 0.6916639804840088\n",
      "Epoch 9/10, Iteration 181/250, Train Loss: 0.6318802833557129\n",
      "Epoch 9/10, Iteration 191/250, Train Loss: 0.6756417751312256\n",
      "Epoch 9/10, Iteration 201/250, Train Loss: 0.7121426463127136\n",
      "Epoch 9/10, Iteration 211/250, Train Loss: 0.7004861831665039\n",
      "Epoch 9/10, Iteration 221/250, Train Loss: 0.715986430644989\n",
      "Epoch 9/10, Iteration 231/250, Train Loss: 0.7031064033508301\n",
      "Epoch 9/10, Iteration 241/250, Train Loss: 0.695893406867981\n",
      "Epoch 9/10, Iteration 1/63, Test Loss: 0.6928264498710632\n",
      "Epoch 9/10, Iteration 11/63, Test Loss: 0.6918210983276367\n",
      "Epoch 9/10, Iteration 21/63, Test Loss: 0.6938318014144897\n",
      "Epoch 9/10, Iteration 31/63, Test Loss: 0.6918210983276367\n",
      "Epoch 9/10, Iteration 41/63, Test Loss: 0.6945019364356995\n",
      "Epoch 9/10, Iteration 51/63, Test Loss: 0.6938318014144897\n",
      "Epoch 9/10, Iteration 61/63, Test Loss: 0.6928264498710632\n"
     ]
    },
    {
     "name": "stderr",
     "output_type": "stream",
     "text": [
      "  0%|          | 0/250 [00:00<?, ?it/s]"
     ]
    },
    {
     "name": "stdout",
     "output_type": "stream",
     "text": [
      "Epoch 10/10, Iteration 1/250, Train Loss: 0.6931615471839905\n",
      "Epoch 10/10, Iteration 11/250, Train Loss: 0.7204577922821045\n",
      "Epoch 10/10, Iteration 21/250, Train Loss: 0.7770711183547974\n",
      "Epoch 10/10, Iteration 31/250, Train Loss: 0.8803309202194214\n",
      "Epoch 10/10, Iteration 41/250, Train Loss: 0.6933056116104126\n",
      "Epoch 10/10, Iteration 51/250, Train Loss: 0.7958043217658997\n",
      "Epoch 10/10, Iteration 61/250, Train Loss: 0.6944136023521423\n",
      "Epoch 10/10, Iteration 71/250, Train Loss: 0.7025266885757446\n",
      "Epoch 10/10, Iteration 81/250, Train Loss: 0.750877857208252\n",
      "Epoch 10/10, Iteration 91/250, Train Loss: 0.6911927461624146\n",
      "Epoch 10/10, Iteration 101/250, Train Loss: 0.704237163066864\n",
      "Epoch 10/10, Iteration 111/250, Train Loss: 0.6788307428359985\n",
      "Epoch 10/10, Iteration 121/250, Train Loss: 0.6653801202774048\n",
      "Epoch 10/10, Iteration 131/250, Train Loss: 0.6931601166725159\n",
      "Epoch 10/10, Iteration 141/250, Train Loss: 0.7109445333480835\n",
      "Epoch 10/10, Iteration 151/250, Train Loss: 0.7003832459449768\n",
      "Epoch 10/10, Iteration 161/250, Train Loss: 0.7014949917793274\n"
     ]
    },
    {
     "name": "stderr",
     "output_type": "stream",
     "text": [
      "100%|██████████| 250/250 [00:00<00:00, 3555.42it/s]"
     ]
    },
    {
     "name": "stdout",
     "output_type": "stream",
     "text": [
      "Epoch 10/10, Iteration 171/250, Train Loss: 0.6911928057670593\n",
      "Epoch 10/10, Iteration 181/250, Train Loss: 0.7668474912643433\n",
      "Epoch 10/10, Iteration 191/250, Train Loss: 0.7154220938682556\n",
      "Epoch 10/10, Iteration 201/250, Train Loss: 0.6948020458221436\n",
      "Epoch 10/10, Iteration 211/250, Train Loss: 0.7374182343482971\n",
      "Epoch 10/10, Iteration 221/250, Train Loss: 0.8330998420715332\n",
      "Epoch 10/10, Iteration 231/250, Train Loss: 0.6921363472938538\n",
      "Epoch 10/10, Iteration 241/250, Train Loss: 0.7792239785194397\n",
      "Epoch 10/10, Iteration 1/63, Test Loss: 0.6993991136550903\n",
      "Epoch 10/10, Iteration 11/63, Test Loss: 0.7117018699645996\n",
      "Epoch 10/10, Iteration 21/63, Test Loss: 0.6870964765548706\n",
      "Epoch 10/10, Iteration 31/63, Test Loss: 0.7117018103599548\n",
      "Epoch 10/10, Iteration 41/63, Test Loss: 0.6788946390151978\n",
      "Epoch 10/10, Iteration 51/63, Test Loss: 0.6870964765548706\n",
      "Epoch 10/10, Iteration 61/63, Test Loss: 0.6993991136550903\n"
     ]
    },
    {
     "name": "stderr",
     "output_type": "stream",
     "text": [
      "\n"
     ]
    }
   ],
   "source": [
    "# 4. Increase the number of hidden units and observe the effect on the loss curves\n",
    "# create MLP\n",
    "batch_size = 32\n",
    "num_epochs = 10\n",
    "learning_rate = 3e-2\n",
    "\n",
    "hidden_channels = [30, 40, 50, 40, 30]\n",
    "mlp = MLP(2, hidden_channels, 2)\n",
    "\n",
    "losses_train = []\n",
    "losses_test = []\n",
    "\n",
    "# train network\n",
    "losses_train, losses_test = train_network(mlp, Ntrain, Ntest, Xtrain, ytrain, Xtest, ytest, num_epochs=num_epochs, batch_size=batch_size, learning_rate=learning_rate)"
   ]
  },
  {
   "cell_type": "code",
   "execution_count": 117,
   "metadata": {},
   "outputs": [
    {
     "data": {
      "image/png": "[encoded data removed]",
      "text/plain": [
       "<Figure size 1000x600 with 1 Axes>"
      ]
     },
     "metadata": {},
     "output_type": "display_data"
    }
   ],
   "source": [
    "plot_loss_curves(losses_train, losses_test, file_name=\"mlp_loss_curves_large_1\")"
   ]
  },
  {
   "cell_type": "markdown",
   "metadata": {},
   "source": [
    "**Report what you observe on the training/test loss curves (related to a term we mentioned in the lecture)**\n",
    "\n",
    "The toy moon dataset from Sklearn is a non-linearly separable dataset with two intertwined classes. The current MLP architecture with only two hidden layers may lack sufficient capacity to learn the complex patterns in the data, leading to high training loss and underfitting. Conversely, an excessively high capacity with multiple hidden layers may cause the model to overfit the training data, resulting in a low training loss but high test loss. Moreover, using Xavier or Glorot initialization for the weights instead of normal distribution initialization can enhance the model's learning capacity since the initialization helps to set the weights of the network to small random values that are inversely proportional to the square root of the number of input units in the previous layer. This ensures that the variance of the outputs of each layer remains consisten allowing gradients to flow through the network during backpropagation.\n"
   ]
  },
  {
   "cell_type": "markdown",
   "metadata": {},
   "source": [
    "### Task 2: Data Preparation and Visualization"
   ]
  },
  {
   "cell_type": "code",
   "execution_count": 118,
   "metadata": {},
   "outputs": [],
   "source": [
    "# prepare data for training and testing\n",
    "def load_data(train=True):\n",
    "    \"\"\"Load train- test split for MNIST\"\"\"\n",
    "    mnist = datasets.MNIST('../data',\n",
    "                train=train,\n",
    "                download=True)\n",
    "    return mnist"
   ]
  },
  {
   "cell_type": "code",
   "execution_count": 119,
   "metadata": {},
   "outputs": [
    {
     "name": "stdout",
     "output_type": "stream",
     "text": [
      "60000\n",
      "10000\n"
     ]
    }
   ],
   "source": [
    "# 1.1 Load MNIST dataset\n",
    "# load train split\n",
    "data_train = load_data(train=True)\n",
    "data_test = load_data(train=False)\n",
    "\n",
    "print(len(data_train))\n",
    "print(len(data_test))"
   ]
  },
  {
   "cell_type": "code",
   "execution_count": 120,
   "metadata": {},
   "outputs": [],
   "source": [
    "def plot_examples(data):\n",
    "    \"\"\" Plot some examples and put their corresponding label on top as title.\"\"\"\n",
    "    train_set_array = np.fliplr(data.data.numpy()) # data is l-r flipped\n",
    "    train_set_array_targets = data.targets.numpy()\n",
    "    \n",
    "    fig, axs = plt.subplots(2,5, figsize=(15, 6), facecolor='w', edgecolor='k')\n",
    "    fig.subplots_adjust(hspace = .5, wspace=.001)\n",
    "    axs = axs.ravel()\n",
    "\n",
    "    for i in range(10):\n",
    "        axs[i].contourf(train_set_array[i], 5, cmap=plt.cm.Greys)\n",
    "        axs[i].set_title(train_set_array_targets[i]) "
   ]
  },
  {
   "cell_type": "code",
   "execution_count": 121,
   "metadata": {},
   "outputs": [
    {
     "data": {
      "image/png": "[encoded data removed]",
      "text/plain": [
       "<Figure size 1500x600 with 10 Axes>"
      ]
     },
     "metadata": {},
     "output_type": "display_data"
    }
   ],
   "source": [
    "# 1.2 Plot some examples from the training set\n",
    "plot_examples(data_train)"
   ]
  },
  {
   "cell_type": "code",
   "execution_count": 122,
   "metadata": {},
   "outputs": [],
   "source": [
    "def plot_report(data: np.array) -> None:\n",
    "    v_sum = np.sum(data)\n",
    "    v_min = np.min(data)\n",
    "    v_max = np.max(data)\n",
    "    v_mean = np.mean(data)\n",
    "    v_shape = data.shape\n",
    "    v_dtype = data.dtype\n",
    "\n",
    "    print(\"Report for train set\")\n",
    "    print(f\"Train Sum: {v_sum}\")\n",
    "    print(f\"Train Min: {v_min}\")\n",
    "    print(f\"Train Max: {v_max}\")\n",
    "    print(f\"Train Mean: {v_mean}\")\n",
    "    print(f\"Train Shape: {v_shape}\")\n",
    "    print(f\"Train Datatype: {v_dtype}\")"
   ]
  },
  {
   "cell_type": "code",
   "execution_count": 123,
   "metadata": {},
   "outputs": [
    {
     "name": "stdout",
     "output_type": "stream",
     "text": [
      "Report for train set\n",
      "Train Sum: 1567298545\n",
      "Train Min: 0\n",
      "Train Max: 255\n",
      "Train Mean: 33.318421449829934\n",
      "Train Shape: (60000, 28, 28)\n",
      "Train Datatype: uint8\n"
     ]
    }
   ],
   "source": [
    "# 1.3 Give a report about min, max, mean, and std of the training set\n",
    "train_set_array = data_train.data.numpy() # data is l-r flipped\n",
    "plot_report(train_set_array)"
   ]
  },
  {
   "cell_type": "code",
   "execution_count": 124,
   "metadata": {},
   "outputs": [],
   "source": [
    "def convert_mnist_to_vectors(data):\n",
    "    '''Converts the ``[28, 28]`` MNIST images to vectors of size ``[28*28]``.\n",
    "       It outputs mnist_vectors as a array with the shape of [N, 784], where\n",
    "       N is the number of images in data.\n",
    "    '''\n",
    "\n",
    "    mnist_vectors = []\n",
    "    labels = []\n",
    "\n",
    "    for image, label in tqdm(data):\n",
    "        img_array = np.asarray(image)\n",
    "        img_array = np.reshape(img_array, -1) # reshape array to vector\n",
    "        mnist_vectors.append(img_array)\n",
    "        labels.append(label)\n",
    "\n",
    "    # return as numpy arrays\n",
    "    return np.array(mnist_vectors), labels\n",
    "\n",
    "\n",
    "def norm_data(data: np.array) -> np.array:\n",
    "    \"\"\"Normalise vectors to be centered around 0 in a range of [-1, 1]\"\"\"\n",
    "    data = data.copy()\n",
    "    return 2*(data - np.min(data))/np.ptp(data) - 1"
   ]
  },
  {
   "cell_type": "code",
   "execution_count": 125,
   "metadata": {},
   "outputs": [
    {
     "name": "stderr",
     "output_type": "stream",
     "text": [
      "100%|██████████| 60000/60000 [00:00<00:00, 90386.11it/s]\n"
     ]
    },
    {
     "name": "stdout",
     "output_type": "stream",
     "text": [
      "(1, 784)\n",
      "(60000, 784)\n"
     ]
    }
   ],
   "source": [
    "# 2. Convert all images into plain vectors and process them to be centered around 0\n",
    "mnist_vectors, labels = convert_mnist_to_vectors(data_train)\n",
    "\n",
    "# normalize data\n",
    "mnist_vectors = norm_data(np.array(mnist_vectors))\n",
    "\n",
    "print(mnist_vectors[:1].shape)\n",
    "print(mnist_vectors.shape)"
   ]
  },
  {
   "cell_type": "code",
   "execution_count": 126,
   "metadata": {},
   "outputs": [
    {
     "name": "stdout",
     "output_type": "stream",
     "text": [
      "Train Mean: -0.8714560195745021\n"
     ]
    }
   ],
   "source": [
    "# Normalised [-1,1]\n",
    "norm_mnist_mean = np.mean(mnist_vectors)\n",
    "print(f\"Train Mean: {norm_mnist_mean}\")"
   ]
  },
  {
   "cell_type": "code",
   "execution_count": 127,
   "metadata": {},
   "outputs": [
    {
     "data": {
      "image/png": "[encoded data removed]",
      "text/plain": [
       "<Figure size 600x400 with 1 Axes>"
      ]
     },
     "metadata": {},
     "output_type": "display_data"
    }
   ],
   "source": [
    "test_img = mnist_vectors[:1]\n",
    "test_img = test_img.reshape((28, 28))\n",
    "plt.imshow(test_img, interpolation='nearest')\n",
    "plt.xlabel(\"x\")\n",
    "plt.ylabel(\"y\")\n",
    "plt.title(\"Test image after centering\")\n",
    "plt.show()"
   ]
  },
  {
   "cell_type": "code",
   "execution_count": 128,
   "metadata": {},
   "outputs": [],
   "source": [
    "def do_pca(data):\n",
    "    '''Returns matrix [784x784] whose columns are the sorted eigenvectors.\n",
    "       Eigenvectors (prinicipal components) are sorted according to their\n",
    "       eigenvalues in decreasing order.\n",
    "    '''\n",
    "\n",
    "    mnist_vectors, _ = convert_mnist_to_vectors(data)\n",
    "    # prepare_data(mnist_vectors)\n",
    "\n",
    "    # compute covariance matrix of data with shape [784x784]\n",
    "    cov = np.cov(mnist_vectors.T)\n",
    "\n",
    "    # compute eigenvalues and vectors\n",
    "    eigVals, eigVec = np.linalg.eig(cov)\n",
    "\n",
    "    # sort eigenVectors by eigenValues\n",
    "    sorted_index = eigVals.argsort()[::-1]\n",
    "    eigVals = eigVals[sorted_index]\n",
    "    sorted_eigenVectors = eigVec[:, sorted_index]\n",
    "    print(type(sorted_eigenVectors), sorted_eigenVectors.shape)\n",
    "    return sorted_eigenVectors.astype(np.float32).T"
   ]
  },
  {
   "cell_type": "code",
   "execution_count": 129,
   "metadata": {},
   "outputs": [
    {
     "name": "stderr",
     "output_type": "stream",
     "text": [
      "100%|██████████| 60000/60000 [00:00<00:00, 88009.35it/s]\n"
     ]
    },
    {
     "name": "stdout",
     "output_type": "stream",
     "text": [
      "<class 'numpy.ndarray'> (784, 784)\n"
     ]
    },
    {
     "name": "stderr",
     "output_type": "stream",
     "text": [
      "/var/folders/4h/v0fwv1zs4596mmdvwj516k840000gn/T/ipykernel_11444/1302327773.py:21: ComplexWarning: Casting complex values to real discards the imaginary part\n",
      "  return sorted_eigenVectors.astype(np.float32).T\n"
     ]
    }
   ],
   "source": [
    "# 3. Run PCA on the MNIST dataset\n",
    "eigenVectors = do_pca(data_train)"
   ]
  },
  {
   "cell_type": "code",
   "execution_count": 130,
   "metadata": {},
   "outputs": [],
   "source": [
    "def plot_pcs(sorted_eigenVectors, num=10):\n",
    "    '''Plots the first ``num`` eigenVectors as images.'''\n",
    "    fig, axs = plt.subplots(2,5, figsize=(15, 6), facecolor='w', edgecolor='k')\n",
    "    fig.subplots_adjust(hspace = .5, wspace=.001)\n",
    "    axs = axs.ravel()\n",
    "\n",
    "    for i in range(num):\n",
    "        img = sorted_eigenVectors[i,].reshape((28, 28))\n",
    "        axs[i].contourf(img, 5, cmap=plt.cm.Oranges)\n",
    "        axs[i].set_title(f\"Principal Component {i}\")\n",
    "    \n",
    "    # save plot to results folder\n",
    "    plt.savefig(f\"{RESULTS_PATH}/pca_components.png\", dpi=300)"
   ]
  },
  {
   "cell_type": "code",
   "execution_count": 131,
   "metadata": {},
   "outputs": [
    {
     "data": {
      "image/png": "[encoded data removed]",
      "text/plain": [
       "<Figure size 1500x600 with 10 Axes>"
      ]
     },
     "metadata": {},
     "output_type": "display_data"
    }
   ],
   "source": [
    "# 3.2 Plot the first 10 principal components\n",
    "plot_pcs(eigenVectors)"
   ]
  },
  {
   "cell_type": "markdown",
   "metadata": {},
   "source": [
    "**Explain what can be observed?**\n",
    "\n",
    "The plots visualize the ten most important principal components, which allows to explain the greatest amount of variance in the original features. Thereby, PCA identifies directions (or principal components) along which the variation in the data is maximal. Hereby, it can be observed that the spread of the values is relatively large on the y-axis with relatively less spread (variance) on the x-axis. However, since the input data follows some wave-type structure (hand-written digits) after the projection the wave shapes also show up as distortion in the plots. Thereby, a linear correlation of the principal component values is not observable. The different values for the principal components do not show any clear linear relationship between the variance of the features in the dataset. We can derive that the classes are not linear seperable. The MNIST data further does not follow a multidimensional normal (Gaussian) distribution.\n",
    "\n",
    "**What would you expect the principal components to look like, if the problem was easy?**\n",
    "\n",
    "If the problem was easy a linear relationship, or strong linear correlation would be observable. However, the MNIST classes are not linearly seperable which makes the problem more challenging. Additionally, a large spread, or great variance is visible."
   ]
  },
  {
   "cell_type": "code",
   "execution_count": null,
   "metadata": {},
   "outputs": [],
   "source": [
    "# create random colours\n",
    "from random import randint\n",
    "\n",
    "def generate_colors(amount: int) -> list:\n",
    "    colors = []\n",
    "    for i in range(amount):\n",
    "        colors.append('#%06X' % randint(0, 0xFFFFFF))\n",
    "    return colors"
   ]
  },
  {
   "cell_type": "code",
   "execution_count": null,
   "metadata": {},
   "outputs": [],
   "source": [
    "def project_vec_2Dspace(x, y):\n",
    "    \"\"\" Use of the dot product to project vectors onto each other.\"\"\"\n",
    "    return (np.dot(x, y) / np.linalg.norm(y)**2 ) * y # (np.dot(x, y) / np.dot(y, y)) * y"
   ]
  },
  {
   "cell_type": "code",
   "execution_count": null,
   "metadata": {},
   "outputs": [],
   "source": [
    "def plot_projection(sorted_eigenVectors, data, path=RESULTS_PATH):\n",
    "    ''' Projects ``data`` onto the first two ``sorted_eigenVectors`` and makes\n",
    "        a scatterplot of the resulting points\n",
    "    '''\n",
    "    N = 250\n",
    "    # prepare data as vectors\n",
    "    mnist_vectors, labels = convert_mnist_to_vectors(data)\n",
    "    \n",
    "    # projection of the vetors in 2D feature space\n",
    "    pc1s = np.array([project_vec_2Dspace(x, y=sorted_eigenVectors[0]) for x in mnist_vectors[:N,]])\n",
    "    pc2s = np.array([project_vec_2Dspace(x, y=sorted_eigenVectors[1]) for x in mnist_vectors[:N,]])\n",
    "\n",
    "    # get random colours\n",
    "    unique_labels = np.unique(labels[:N])\n",
    "    cdict = generate_colors(len(unique_labels))\n",
    "\n",
    "    # plot all datapoints \n",
    "    fig, ax = plt.subplots()\n",
    "    for g in unique_labels:\n",
    "        ix = np.where(labels[:N] == g)\n",
    "        x = list(pc1s[ix])\n",
    "        y = list(pc2s[ix])\n",
    "        ax.scatter(x, y, c=cdict[g], marker='.', label=f'class {g}')\n",
    "    ax.legend()\n",
    "    ax.grid()\n",
    "    plt.title(f'Two Component PCA with {N} Samples')\n",
    "    plt.xlabel('Principal Component 1')\n",
    "    plt.ylabel('Principal Component 2')\n",
    "    plt.show()\n",
    "\n",
    "    fig.savefig(f'./{path}/pca.png', dpi=fig.dpi)"
   ]
  },
  {
   "cell_type": "code",
   "execution_count": null,
   "metadata": {},
   "outputs": [],
   "source": [
    "# 4. Project the MNIST vectors of the train set onto the two most important principal components\n",
    "# find the two main important PCs\n",
    "two_main_components = eigenVectors[:2,] # start_index: end_index, \n",
    "print(two_main_components.shape)\n",
    "\n",
    "plot_projection(two_main_components, data_train)"
   ]
  },
  {
   "cell_type": "markdown",
   "metadata": {},
   "source": [
    "### Task 3: Defining, Training and Evaluating an MLP"
   ]
  },
  {
   "cell_type": "code",
   "execution_count": null,
   "metadata": {},
   "outputs": [],
   "source": []
  },
  {
   "cell_type": "markdown",
   "metadata": {},
   "source": [
    "#### Task 4: Visualizing MLP Features"
   ]
  }
 ],
 "metadata": {
  "kernelspec": {
   "display_name": "pytorch-py11",
   "language": "python",
   "name": "python3"
  },
  "language_info": {
   "codemirror_mode": {
    "name": "ipython",
    "version": 3
   },
   "file_extension": ".py",
   "mimetype": "text/x-python",
   "name": "python",
   "nbconvert_exporter": "python",
   "pygments_lexer": "ipython3",
   "version": "3.11.9"
  }
 },
 "nbformat": 4,
 "nbformat_minor": 2
}
